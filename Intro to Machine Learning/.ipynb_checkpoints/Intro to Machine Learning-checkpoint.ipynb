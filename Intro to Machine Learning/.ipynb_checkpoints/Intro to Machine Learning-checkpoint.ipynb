{
 "cells": [
  {
   "cell_type": "markdown",
   "metadata": {
    "id": "oS-ddAMUA1Fq"
   },
   "source": [
    "# Introduction to Machine Learning"
   ]
  },
  {
   "cell_type": "markdown",
   "metadata": {
    "id": "OTsVRcPrA1Fq"
   },
   "source": [
    "## First of all, what is Machine Learning?"
   ]
  },
  {
   "cell_type": "markdown",
   "metadata": {
    "id": "3PgAOIVZA1Fq"
   },
   "source": [
    "- Generally speaking, is the field of computer science and engineering that studys the capability of computers to get knowledge from data.\n",
    "\n",
    "\n",
    "<img src=\"https://raw.githubusercontent.com/taamfp/NDS_NEM_Workshop_2020/main/Images/curiosa-1.gif\" width=\"700\" align=\"center\">\n"
   ]
  },
  {
   "cell_type": "markdown",
   "metadata": {
    "id": "YDTgNqcvA1Fq"
   },
   "source": [
    "## A New Approach"
   ]
  },
  {
   "cell_type": "markdown",
   "metadata": {
    "id": "CD2GGLuxA1Fq"
   },
   "source": [
    "<figure class=\"image\">\n",
    "  <img src=\"https://raw.githubusercontent.com/taamfp/NDS_NEM_Workshop_2020/main/Images/Traditional_Approach.PNG\" align=\"center\" width=\"700\">\n",
    "  <figcaption> Tradition Approach in Programming (Source: \"Hands-On Machine Learning with Scikit-Learn\n",
    "and TensorFlow\", Aurélien Géron, O'REILLY, 2017). </figcaption>\n",
    "</figure>"
   ]
  },
  {
   "cell_type": "markdown",
   "metadata": {
    "id": "oQSb5DUMA1Fq"
   },
   "source": [
    "<figure class=\"image\">\n",
    "  <img src=\"https://raw.githubusercontent.com/taamfp/NDS_NEM_Workshop_2020/main/Images/Machine_Learning.PNG\" align=\"center\" width=\"700\">\n",
    "  <figcaption> Machine Learning Approach (Source: \"Hands-On Machine Learning with Scikit-Learn\n",
    "and TensorFlow\", Aurélien Géron, O'REILLY, 2017). </figcaption>\n",
    "</figure>"
   ]
  },
  {
   "cell_type": "markdown",
   "metadata": {
    "id": "_NrACsUJA1Fq"
   },
   "source": [
    "## What are the applications?"
   ]
  },
  {
   "cell_type": "markdown",
   "metadata": {
    "id": "bFflSRqtA1Fq"
   },
   "source": [
    "<figure class=\"image\">\n",
    "    <img src=\"https://raw.githubusercontent.com/taamfp/NDS_NEM_Workshop_2020/main/Images/SgML.gif\" align=\"center\" width=\"700\">\n",
    "  <figcaption> - Email Spam Detection. </figcaption>\n",
    "    <img src=\"https://raw.githubusercontent.com/taamfp/NDS_NEM_Workshop_2020/main/Images/ImML.gif\" align=\"center\" width=\"700\">\n",
    "  <figcaption> - Image Classification. </figcaption>\n",
    "    <img src=\"https://raw.githubusercontent.com/taamfp/NDS_NEM_Workshop_2020/main/Images/MdML.gif\" align=\"center\" width=\"700\">\n",
    "  <figcaption> - Medical Diagnosis. </figcaption>\n",
    "    <img src=\"https://raw.githubusercontent.com/taamfp/NDS_NEM_Workshop_2020/main/Images/StML.gif\" align=\"center\" width=\"700\">\n",
    "  <figcaption> - Stock Market Predictions. </figcaption>\n",
    "    <img src=\"https://raw.githubusercontent.com/taamfp/NDS_NEM_Workshop_2020/main/Images/ScML.gif\" align=\"center\" width=\"700\">\n",
    "  <figcaption> - Real-Time Object Detection and Self-Driving Cars. </figcaption>\n",
    "</figure>"
   ]
  },
  {
   "cell_type": "markdown",
   "metadata": {
    "id": "csTytIezA1Fq"
   },
   "source": [
    "## Domains of Machine Learning"
   ]
  },
  {
   "cell_type": "markdown",
   "metadata": {
    "id": "uX0xLaVnA1Fq"
   },
   "source": [
    "#### Supervised Learning\n",
    "\n",
    "- In Supervised Learning, all training data instances include the expected solutions/output (labels).\n",
    "\n",
    "<figure class=\"image\">\n",
    "  <img src=\"https://raw.githubusercontent.com/taamfp/NDS_NEM_Workshop_2020/main/Images/SupervisedLabel.PNG\" align=\"center\" width=\"2000\">\n",
    "  <figcaption> Supervised Learning Approach (Source: \"Hands-On Machine Learning with Scikit-Learn\n",
    "and TensorFlow\", Aurélien Géron, O'REILLY, 2017). </figcaption>\n",
    "</figure>\n",
    "\n",
    "It can be subdivided on the following types of tasks:\n",
    "\n",
    "- Classification (Binary/Multiclass):\n",
    "- Regression."
   ]
  },
  {
   "cell_type": "markdown",
   "metadata": {
    "id": "hDUxzstlA1Fq"
   },
   "source": [
    "#### Unsupervised Learning\n",
    "\n",
    "- In Unsupervised Learning, as opposed to the previous case, training data do not have any prior labelling. We want to find patterns in the unstructured data.\n",
    "\n",
    "<figure class=\"image\">\n",
    "  <img src=\"https://raw.githubusercontent.com/taamfp/NDS_NEM_Workshop_2020/main/Images/Unsupervised.PNG\" align=\"center\" width=\"1000\">\n",
    "  <figcaption> Set of unlabeled data (Source: \"Hands-On Machine Learning with Scikit-Learn\n",
    "and TensorFlow\", Aurélien Géron, O'REILLY, 2017). </figcaption>\n",
    "</figure>"
   ]
  },
  {
   "cell_type": "markdown",
   "metadata": {
    "id": "scSx1cTEA1Fq"
   },
   "source": [
    "#### Reinforcement Learning\n",
    "\n",
    "- A more focused Machine Learning field for information theory and game theory. Interaction between an agent and an environment, where the agent receives penaltys/rewards and optimizes the set of actions (policy) to maximize the rewards.\n",
    "\n",
    "<figure class=\"image\">\n",
    "  <img src=\"https://raw.githubusercontent.com/taamfp/NDS_NEM_Workshop_2020/main/Images/Reinforcement.PNG\" align=\"center\" width=\"700\">\n",
    "  <figcaption> Agent-Environment Interaction (Source: \"Reinforcement Learning: An Introduction\", Richard S. Sutton and Andrew G. Barto, 2018, MIT Press). </figcaption>\n",
    "</figure>"
   ]
  },
  {
   "cell_type": "markdown",
   "metadata": {
    "id": "KaaAGNeBA1Fq"
   },
   "source": [
    "## Examples"
   ]
  },
  {
   "cell_type": "markdown",
   "metadata": {
    "id": "m5BtWPqPA1Fq"
   },
   "source": [
    "### Supervised Learning"
   ]
  },
  {
   "cell_type": "markdown",
   "metadata": {
    "id": "DMAQR4qnA1Fq"
   },
   "source": [
    "<img src=\"https://raw.githubusercontent.com/taamfp/NDS_NEM_Workshop_2020/main/Images/Exemplo1.png\" width=\"700\" align=\"center\">"
   ]
  },
  {
   "cell_type": "markdown",
   "metadata": {
    "id": "8vHANbH1A1Fq"
   },
   "source": [
    "<img src=\"https://raw.githubusercontent.com/taamfp/NDS_NEM_Workshop_2020/main/Images/Exemplo2.gif\" width=\"700\" align=\"center\">"
   ]
  },
  {
   "cell_type": "markdown",
   "metadata": {
    "id": "0rP9kGIaA1Fq"
   },
   "source": [
    "### Unsupervised Learning"
   ]
  },
  {
   "cell_type": "markdown",
   "metadata": {
    "id": "U2sbMT9gA1Fq"
   },
   "source": [
    "<img src=\"https://raw.githubusercontent.com/taamfp/NDS_NEM_Workshop_2020/main/Images/Exemplo3.png\" width=\"700\" align=\"center\">"
   ]
  },
  {
   "cell_type": "markdown",
   "metadata": {
    "id": "u94NXZRLA1Fq"
   },
   "source": [
    "<img src=\"https://raw.githubusercontent.com/taamfp/NDS_NEM_Workshop_2020/main/Images/Exemplo4.jpg\" width=\"700\" align=\"center\">"
   ]
  },
  {
   "cell_type": "markdown",
   "metadata": {
    "id": "np9W_vRVA1Fq"
   },
   "source": [
    "### Reinforcement Learning"
   ]
  },
  {
   "cell_type": "markdown",
   "metadata": {
    "id": "6EmB43gcA1Fq"
   },
   "source": [
    "<img src=\"https://raw.githubusercontent.com/taamfp/NDS_NEM_Workshop_2020/main/Images/Exemplo5.gif\" width=\"700\" align=\"center\">"
   ]
  },
  {
   "cell_type": "markdown",
   "metadata": {
    "id": "JDQdyaXmA1Fq"
   },
   "source": [
    "<img src=\"https://raw.githubusercontent.com/taamfp/NDS_NEM_Workshop_2020/main/Images/Exemplo7.gif\" width=\"700\" align=\"center\">"
   ]
  },
  {
   "cell_type": "markdown",
   "metadata": {
    "id": "S0umxtD7A1Fq"
   },
   "source": [
    "## Standard Procedures in Machine Learning"
   ]
  },
  {
   "cell_type": "markdown",
   "metadata": {
    "id": "JFCjdhkUA1Fq"
   },
   "source": [
    "####  Implementing any Machine Learning solution normally incorporates the following steps:\n",
    "\n",
    "- Identifying the problem you want to solve;\n",
    "- Fit the problem in the related Machine Learning domain;\n",
    "- Collecting data;\n",
    "- Structuring/Cleaning the obtained data and gather the first insights;\n",
    "- Get the most important components of your data;\n",
    "- Model building;\n",
    "- Model evaluation and Results interpretation;\n",
    "- Deployment."
   ]
  },
  {
   "cell_type": "markdown",
   "metadata": {
    "id": "IN1Qu5VFA1Fq"
   },
   "source": [
    "### In this session, we will focus on building and training a model. More specifically, we will solve a regression task to predict the price of residential homes in the United States.\n",
    "\n",
    "#### Let us first recap what regression tasks handle and understand how generally we train our models."
   ]
  },
  {
   "cell_type": "markdown",
   "metadata": {
    "id": "bwcTTZalA1Fq"
   },
   "source": [
    "### Regression Modeling - Linear Regression"
   ]
  },
  {
   "cell_type": "markdown",
   "metadata": {
    "id": "UDX850O2A1Fq"
   },
   "source": [
    "- As opposed to binary or multiclass modeling, regression tasks deal with continuous labelled values. In case of predicting prices, we are trying to guess a value belonging to real domain, $y \\in \\mathbb{R}$. We are given a set of input variables, so we are dealing with multivariate analysis."
   ]
  },
  {
   "cell_type": "markdown",
   "metadata": {
    "id": "wqWeS8sHA1Fq"
   },
   "source": [
    "- Let us first start with the simplest regression model available, the linear regression."
   ]
  },
  {
   "cell_type": "markdown",
   "metadata": {
    "id": "S-Q6FQibA1Fq"
   },
   "source": [
    "In Linear Regression, the model makes a prediction by calculating the weighted sum of the $n$ features and an initial term, $\\theta_{0}$,"
   ]
  },
  {
   "cell_type": "markdown",
   "metadata": {
    "id": "n3YbgvIIA1Fq"
   },
   "source": [
    "<font size=\"20\">\n",
    "$ y = \\theta_{0} + \\theta_{1}x_{1} + ... + \\theta_{n}x_{n} $\n",
    "</font>"
   ]
  },
  {
   "cell_type": "markdown",
   "metadata": {
    "id": "fc90hoQoA1Fq"
   },
   "source": [
    "where $y$ is the output we want to predict,  $n$ the number of input variables we have in our data, $x$ is the input variable value and $\\theta$ the model parameter/weight."
   ]
  },
  {
   "cell_type": "markdown",
   "metadata": {
    "id": "Yiwp-XCKA1Fq"
   },
   "source": [
    "<figure class=\"image\">\n",
    "  <img src=\"https://raw.githubusercontent.com/taamfp/NDS_NEM_Workshop_2020/main/Images/Linear.gif\" align=\"center\" width=\"700\">\n",
    "  <figcaption> \"Linear Regression: The Easier Way\", Towards Data Science, Sagar Sharma, 2017 </figcaption>\n",
    "</figure>"
   ]
  },
  {
   "cell_type": "markdown",
   "metadata": {
    "id": "1CW1i48zA1Fq"
   },
   "source": [
    "- We train the model to set the optimal parameters so it fits the data the best way. This is practically the same as saying that we are trying to find the best values of $\\theta$ so it minimizes the Root Mean Square Error (RMSE)."
   ]
  },
  {
   "cell_type": "markdown",
   "metadata": {
    "id": "EwT8N33OA1Fq"
   },
   "source": [
    "The Root Mean Square Error is a standardized manner of evaluate the error of the regression model. It is defined as,"
   ]
  },
  {
   "cell_type": "markdown",
   "metadata": {
    "id": "Hq_2eFiVA1Fq"
   },
   "source": [
    "<font size=\"100\">\n",
    "$ RMSE = \\sqrt{\\sum_{i=1}^{n} \\frac{(\\hat y_{i}-y_{i})^{2}}{n}}$\n",
    "</font>"
   ]
  },
  {
   "cell_type": "markdown",
   "metadata": {
    "id": "q0o-f5CUA1Fq"
   },
   "source": [
    "where $\\hat y_{n}$ are the predicted values by the model, $y_{i}$ the real output observations, and $n$ the total number of observations."
   ]
  },
  {
   "cell_type": "markdown",
   "metadata": {
    "id": "3TkzXmZTA1Fq"
   },
   "source": [
    "### How to train Regression Models"
   ]
  },
  {
   "cell_type": "markdown",
   "metadata": {
    "id": "gFwUwZA-A1Fr"
   },
   "source": [
    "First of all, we need to \"show\" the model examples of what we want them to predict. As previously mentioned, we desire, for every new instance, a price prediction of the new house. After feeding the model with labelled examples (training process), it is necessary to evaluate the model's performance, so as it behaves decently when new instances are given (evaluation on a test set)."
   ]
  },
  {
   "cell_type": "markdown",
   "metadata": {
    "id": "xDmEo8dzA1Fr"
   },
   "source": [
    "<img src=\"https://raw.githubusercontent.com/taamfp/NDS_NEM_Workshop_2020/main/Images/DataCamp.png\" width=\"700\" align=\"center\">"
   ]
  },
  {
   "cell_type": "markdown",
   "metadata": {
    "id": "4IrvTvSVA1Fr"
   },
   "source": [
    "#### Now it is time to train a model!\n",
    "\n",
    "<img src=\"https://raw.githubusercontent.com/taamfp/NDS_NEM_Workshop_2020/main/Images/Train.gif\" width=\"700\" align=\"center\">"
   ]
  },
  {
   "cell_type": "markdown",
   "metadata": {
    "id": "pI7R0LM0A1Fr"
   },
   "source": [
    "## Training a Regression Model"
   ]
  },
  {
   "cell_type": "markdown",
   "metadata": {
    "id": "F5NjP6B5A1Fr"
   },
   "source": [
    "Let's define our Machine Learning problem we want to solve. Using the attributes information of individual houses, we want to train a model that, based on previous examples, predictes a price for a given house. Since it predicts a value $y \\in \\mathbb{R}$, we will a regressor predictor - Linear Regression model,"
   ]
  },
  {
   "cell_type": "markdown",
   "metadata": {
    "id": "JKLJi1lYA1Fr"
   },
   "source": [
    "#### 1. Importing all necessary libraries."
   ]
  },
  {
   "cell_type": "code",
   "execution_count": null,
   "metadata": {
    "colab": {
     "base_uri": "https://localhost:8080/"
    },
    "executionInfo": {
     "elapsed": 989,
     "status": "ok",
     "timestamp": 1606093171737,
     "user": {
      "displayName": "NDS Núcleo de Data Science",
      "photoUrl": "",
      "userId": "17483566874171012124"
     },
     "user_tz": 0
    },
    "id": "Qv1PK-NwA1Fr",
    "outputId": "4b1a7ab1-483d-4219-e4b9-2550a31e8c25"
   },
   "outputs": [],
   "source": [
    "# Libraries\n",
    "\n",
    "import requests\n",
    "import numpy as np\n",
    "import pandas as pd\n",
    "import matplotlib.pyplot as plt\n",
    "import seaborn as sn\n",
    "from pylab import rcParams\n",
    "from sklearn.model_selection import train_test_split\n",
    "from sklearn.linear_model import LinearRegression\n",
    "from sklearn.metrics import r2_score\n",
    "from sklearn.metrics import mean_absolute_error\n",
    "from sklearn.externals import joblib"
   ]
  },
  {
   "cell_type": "code",
   "execution_count": null,
   "metadata": {
    "executionInfo": {
     "elapsed": 983,
     "status": "ok",
     "timestamp": 1606093171738,
     "user": {
      "displayName": "NDS Núcleo de Data Science",
      "photoUrl": "",
      "userId": "17483566874171012124"
     },
     "user_tz": 0
    },
    "id": "IN0Y1SR0A1Fr"
   },
   "outputs": [],
   "source": [
    "#Set numpy output options \n",
    "\n",
    "np.set_printoptions(edgeitems=3)\n",
    "np.core.arrayprint._line_width = 30\n",
    "\n",
    "# Pandas output options\n",
    "\n",
    "pd.set_option('display.max_columns', 20)\n",
    "pd.set_option('display.max_rows', 100)"
   ]
  },
  {
   "cell_type": "markdown",
   "metadata": {
    "id": "SbKmP--SA1Fs"
   },
   "source": [
    "#### First, let's take a look at our data. As previously mentioned, we are building a model to predict the price of residential homes. "
   ]
  },
  {
   "cell_type": "markdown",
   "metadata": {
    "id": "8n439vqLA1Fs"
   },
   "source": [
    "#### 2. Gather the data."
   ]
  },
  {
   "cell_type": "code",
   "execution_count": null,
   "metadata": {
    "colab": {
     "base_uri": "https://localhost:8080/"
    },
    "executionInfo": {
     "elapsed": 1218,
     "status": "ok",
     "timestamp": 1606093171977,
     "user": {
      "displayName": "NDS Núcleo de Data Science",
      "photoUrl": "",
      "userId": "17483566874171012124"
     },
     "user_tz": 0
    },
    "id": "_xuplznGA1Fs",
    "outputId": "14a751b4-acd8-4cce-915c-b0b194630d71"
   },
   "outputs": [],
   "source": [
    "%time\n",
    "\n",
    "# Importing the data with pandas\n",
    "\n",
    "data_train = pd.read_csv('https://raw.githubusercontent.com/taamfp/NDS_NEM_Workshop_2020/main/data/train.csv', index_col=0)\n",
    "print(data_train[:10])"
   ]
  },
  {
   "cell_type": "markdown",
   "metadata": {
    "id": "NZXZ6BVOXhnI"
   },
   "source": [
    "#### You can check additional information about the dataset in the following example."
   ]
  },
  {
   "cell_type": "code",
   "execution_count": null,
   "metadata": {
    "colab": {
     "base_uri": "https://localhost:8080/"
    },
    "executionInfo": {
     "elapsed": 1641,
     "status": "ok",
     "timestamp": 1606093172405,
     "user": {
      "displayName": "NDS Núcleo de Data Science",
      "photoUrl": "",
      "userId": "17483566874171012124"
     },
     "user_tz": 0
    },
    "id": "I5AdkqInXqAw",
    "outputId": "a8bcda94-9e3f-47bb-f3ab-d2f3405d8287"
   },
   "outputs": [],
   "source": [
    "# Get additional information file\n",
    "\n",
    "path_file = 'https://raw.githubusercontent.com/taamfp/NDS_NEM_Workshop_2020/main/data/data_description.txt'\n",
    "file = requests.get(path_file)\n",
    "file = file.text\n",
    "print(file)"
   ]
  },
  {
   "cell_type": "markdown",
   "metadata": {
    "id": "R3uTHJmMA1Fs"
   },
   "source": [
    "#### 3. General Statistics and Visualization"
   ]
  },
  {
   "cell_type": "code",
   "execution_count": null,
   "metadata": {
    "colab": {
     "base_uri": "https://localhost:8080/"
    },
    "executionInfo": {
     "elapsed": 1637,
     "status": "ok",
     "timestamp": 1606093172406,
     "user": {
      "displayName": "NDS Núcleo de Data Science",
      "photoUrl": "",
      "userId": "17483566874171012124"
     },
     "user_tz": 0
    },
    "id": "yW_jJVRnA1Fs",
    "outputId": "62a0c88b-7bc5-4a20-c3aa-352b0c7f2943"
   },
   "outputs": [],
   "source": [
    "# Check data types\n",
    "\n",
    "print('Feature Types: \\n', data_train.dtypes.value_counts())"
   ]
  },
  {
   "cell_type": "code",
   "execution_count": null,
   "metadata": {
    "colab": {
     "base_uri": "https://localhost:8080/"
    },
    "executionInfo": {
     "elapsed": 1631,
     "status": "ok",
     "timestamp": 1606093172406,
     "user": {
      "displayName": "NDS Núcleo de Data Science",
      "photoUrl": "",
      "userId": "17483566874171012124"
     },
     "user_tz": 0
    },
    "id": "QrRNKVsKA1Fs",
    "outputId": "ebf8d699-ea87-45f5-d4f6-db194ae00018"
   },
   "outputs": [],
   "source": [
    "# Check all nan values\n",
    "\n",
    "print('Data NaN values: \\n', data_train.isna().sum())"
   ]
  },
  {
   "cell_type": "code",
   "execution_count": null,
   "metadata": {
    "colab": {
     "base_uri": "https://localhost:8080/"
    },
    "executionInfo": {
     "elapsed": 1627,
     "status": "ok",
     "timestamp": 1606093172407,
     "user": {
      "displayName": "NDS Núcleo de Data Science",
      "photoUrl": "",
      "userId": "17483566874171012124"
     },
     "user_tz": 0
    },
    "id": "bEZ-AQsOA1Fs",
    "outputId": "f6e5aefe-d059-4751-dc8a-e5281bef2c87"
   },
   "outputs": [],
   "source": [
    "# Checking for duplicated values\n",
    "\n",
    "duplicated_values = data_train.duplicated().sum()\n",
    "print('There is {} duplicated values.'.format(duplicated_values))"
   ]
  },
  {
   "cell_type": "code",
   "execution_count": null,
   "metadata": {
    "colab": {
     "base_uri": "https://localhost:8080/",
     "height": 1000
    },
    "executionInfo": {
     "elapsed": 10161,
     "status": "ok",
     "timestamp": 1606093180947,
     "user": {
      "displayName": "NDS Núcleo de Data Science",
      "photoUrl": "",
      "userId": "17483566874171012124"
     },
     "user_tz": 0
    },
    "id": "JlHoD14qA1Fs",
    "outputId": "d064da31-c52a-4724-fd40-be3543d1449e"
   },
   "outputs": [],
   "source": [
    "%matplotlib inline\n",
    "\n",
    "# Data distribution\n",
    "\n",
    "data_train.hist(figsize=(27, 35), bins=50, xlabelsize=10, ylabelsize=10)\n",
    "plt.show()"
   ]
  },
  {
   "cell_type": "code",
   "execution_count": null,
   "metadata": {
    "colab": {
     "base_uri": "https://localhost:8080/",
     "height": 839
    },
    "executionInfo": {
     "elapsed": 10157,
     "status": "ok",
     "timestamp": 1606093180948,
     "user": {
      "displayName": "NDS Núcleo de Data Science",
      "photoUrl": "",
      "userId": "17483566874171012124"
     },
     "user_tz": 0
    },
    "id": "rbhdgjeXA1Fs",
    "outputId": "e8698f0d-9863-427c-be12-9323cd4b6536"
   },
   "outputs": [],
   "source": [
    "%matplotlib inline\n",
    "\n",
    "# Price distribution\n",
    "\n",
    "plt.rcParams[\"figure.figsize\"] = (15,13)\n",
    "\n",
    "sn.distplot(data_train['SalePrice'])\n",
    "plt.title('Sale Price Distribution')\n",
    "plt.show()"
   ]
  },
  {
   "cell_type": "markdown",
   "metadata": {
    "id": "iE01wXPDA1Fs"
   },
   "source": [
    "#### This dataset contains a considerable sized feature space $X$. The $SalePrice$ column is our target variable, $Y$. To this initial approach, we will use only numerical features."
   ]
  },
  {
   "cell_type": "markdown",
   "metadata": {
    "id": "g40aY-vgA1Fs"
   },
   "source": [
    "#### 4. Setting the training set."
   ]
  },
  {
   "cell_type": "code",
   "execution_count": null,
   "metadata": {
    "executionInfo": {
     "elapsed": 10152,
     "status": "ok",
     "timestamp": 1606093180948,
     "user": {
      "displayName": "NDS Núcleo de Data Science",
      "photoUrl": "",
      "userId": "17483566874171012124"
     },
     "user_tz": 0
    },
    "id": "00Vkr70tA1Fs"
   },
   "outputs": [],
   "source": [
    "# Selecting only numerical features\n",
    "\n",
    "data_train = data_train.select_dtypes(include=['int64', 'float64'])"
   ]
  },
  {
   "cell_type": "code",
   "execution_count": null,
   "metadata": {
    "executionInfo": {
     "elapsed": 10148,
     "status": "ok",
     "timestamp": 1606093180948,
     "user": {
      "displayName": "NDS Núcleo de Data Science",
      "photoUrl": "",
      "userId": "17483566874171012124"
     },
     "user_tz": 0
    },
    "id": "lLYBHCxUA1Fs"
   },
   "outputs": [],
   "source": [
    "# Removing null features\n",
    "\n",
    "data_train.dropna()\n",
    "data_train.fillna(0, inplace=True)\n",
    "data_train = data_train.loc[:, data_train.any()]"
   ]
  },
  {
   "cell_type": "markdown",
   "metadata": {
    "id": "cb_X2yg5A1Fs"
   },
   "source": [
    "#### 5. Setting train and test sets."
   ]
  },
  {
   "cell_type": "code",
   "execution_count": null,
   "metadata": {
    "colab": {
     "base_uri": "https://localhost:8080/"
    },
    "executionInfo": {
     "elapsed": 10145,
     "status": "ok",
     "timestamp": 1606093180949,
     "user": {
      "displayName": "NDS Núcleo de Data Science",
      "photoUrl": "",
      "userId": "17483566874171012124"
     },
     "user_tz": 0
    },
    "id": "CaTSU8FuA1Fs",
    "outputId": "a4348dda-d7d4-4ab6-dd48-19bd6222b0e9"
   },
   "outputs": [],
   "source": [
    "# Getting features and label data\n",
    "\n",
    "X = data_train.drop(['SalePrice'], axis = 1)\n",
    "Y = data_train['SalePrice']\n",
    "\n",
    "\n",
    "# Train and test sets\n",
    "X_train, X_test, y_train, y_test = train_test_split(X, Y, test_size=0.2)\n",
    "\n",
    "print('Train Feature Set \\n', X_train)\n",
    "print('Train Label Set \\n', y_train)"
   ]
  },
  {
   "cell_type": "markdown",
   "metadata": {
    "id": "7wFqEo0yA1Fs"
   },
   "source": [
    "#### We are now ready to train our model. "
   ]
  },
  {
   "cell_type": "markdown",
   "metadata": {
    "id": "a_OzKeR4A1Fs"
   },
   "source": [
    "#### 7. Setting Model."
   ]
  },
  {
   "cell_type": "code",
   "execution_count": null,
   "metadata": {
    "colab": {
     "base_uri": "https://localhost:8080/"
    },
    "executionInfo": {
     "elapsed": 10689,
     "status": "ok",
     "timestamp": 1606093181498,
     "user": {
      "displayName": "NDS Núcleo de Data Science",
      "photoUrl": "",
      "userId": "17483566874171012124"
     },
     "user_tz": 0
    },
    "id": "3cs6vfD0A1Fs",
    "outputId": "942dce84-76f3-429b-c116-616341a7ec6c"
   },
   "outputs": [],
   "source": [
    "# Defining the model\n",
    "\n",
    "model = LinearRegression()\n",
    "\n",
    "# Training the model\n",
    "\n",
    "model.fit(X_train, y_train)"
   ]
  },
  {
   "cell_type": "markdown",
   "metadata": {
    "id": "yWYJFsf2A1Fs"
   },
   "source": [
    "#### 8. Evaluate model parameters."
   ]
  },
  {
   "cell_type": "code",
   "execution_count": null,
   "metadata": {
    "colab": {
     "base_uri": "https://localhost:8080/"
    },
    "executionInfo": {
     "elapsed": 10684,
     "status": "ok",
     "timestamp": 1606093181498,
     "user": {
      "displayName": "NDS Núcleo de Data Science",
      "photoUrl": "",
      "userId": "17483566874171012124"
     },
     "user_tz": 0
    },
    "id": "WCvETqiRA1Fs",
    "outputId": "e432c986-ec38-4c06-e1e1-a71e98e5fc03"
   },
   "outputs": [],
   "source": [
    "# Getting the model weights\n",
    "\n",
    "print('Model Weights \\n', model.coef_)\n",
    "print('Total Parameter Weights \\n', len(model.coef_))"
   ]
  },
  {
   "cell_type": "markdown",
   "metadata": {
    "id": "8Rya_SaMA1Ft"
   },
   "source": [
    "#### After training our model, we need to evaluate it. For that, we will use some performance metrics, including the RMSE. "
   ]
  },
  {
   "cell_type": "markdown",
   "metadata": {
    "id": "2qKpK1kQA1Ft"
   },
   "source": [
    "#### 10. Model Performance Metrics."
   ]
  },
  {
   "cell_type": "code",
   "execution_count": null,
   "metadata": {
    "colab": {
     "base_uri": "https://localhost:8080/"
    },
    "executionInfo": {
     "elapsed": 10680,
     "status": "ok",
     "timestamp": 1606093181499,
     "user": {
      "displayName": "NDS Núcleo de Data Science",
      "photoUrl": "",
      "userId": "17483566874171012124"
     },
     "user_tz": 0
    },
    "id": "PiJQ7c-UA1Ft",
    "outputId": "d2118d6b-6880-4278-b54c-0f8eb1a0cd4f"
   },
   "outputs": [],
   "source": [
    "# Testing the model on the test set\n",
    "\n",
    "y_prediction = model.predict(X_test)\n",
    "\n",
    "# RMSE Metric\n",
    "\n",
    "ms = mean_absolute_error(y_test, y_prediction)\n",
    "print('RMSE \\n', np.sqrt(ms))\n",
    "\n",
    "# R2 Score\n",
    "print('R2 Score \\n', r2_score(y_test, y_prediction))"
   ]
  },
  {
   "cell_type": "markdown",
   "metadata": {
    "id": "y8huBDxZA1Ft"
   },
   "source": [
    "#### 11. Visualization of the model performance."
   ]
  },
  {
   "cell_type": "code",
   "execution_count": null,
   "metadata": {
    "colab": {
     "base_uri": "https://localhost:8080/",
     "height": 839
    },
    "executionInfo": {
     "elapsed": 10675,
     "status": "ok",
     "timestamp": 1606093181499,
     "user": {
      "displayName": "NDS Núcleo de Data Science",
      "photoUrl": "",
      "userId": "17483566874171012124"
     },
     "user_tz": 0
    },
    "id": "0s_gEmWNA1Ft",
    "outputId": "50976f6d-300e-46f8-c196-2b5314716ef9"
   },
   "outputs": [],
   "source": [
    "%matplotlib inline\n",
    "\n",
    "# Expected vs Predicted Values with Linear Regressin Model plot\n",
    "\n",
    "plt.rcParams[\"figure.figsize\"] = (15,13)\n",
    "\n",
    "sn.regplot(y_test, y_prediction, fit_reg=True)\n",
    "plt.title ('Expected vs Predicted Values with Linear Regressin Model')\n",
    "plt.xlabel('Expected Price')\n",
    "plt.ylabel('Predicted Price')\n",
    "plt.show()"
   ]
  },
  {
   "cell_type": "markdown",
   "metadata": {
    "id": "Y-jB0wvLA1Ft"
   },
   "source": [
    "#### Well done! We now have a linear regression model that predicts house sale prices. It is ready to be delivered to any application!"
   ]
  },
  {
   "cell_type": "markdown",
   "metadata": {
    "id": "4TYX64o1A1Ft"
   },
   "source": [
    "<img src=\"https://raw.githubusercontent.com/taamfp/NDS_NEM_Workshop_2020/main/Images/Well_Done.gif\" width=\"700\" align=\"center\">"
   ]
  },
  {
   "cell_type": "markdown",
   "metadata": {
    "id": "tn0fhNrcA1Ft"
   },
   "source": [
    "#### We can also save it to future applications."
   ]
  },
  {
   "cell_type": "markdown",
   "metadata": {
    "id": "rOe6TW8TA1Ft"
   },
   "source": [
    "#### 12. Saving and Loading the model."
   ]
  },
  {
   "cell_type": "code",
   "execution_count": null,
   "metadata": {
    "colab": {
     "base_uri": "https://localhost:8080/"
    },
    "executionInfo": {
     "elapsed": 10670,
     "status": "ok",
     "timestamp": 1606093181499,
     "user": {
      "displayName": "NDS Núcleo de Data Science",
      "photoUrl": "",
      "userId": "17483566874171012124"
     },
     "user_tz": 0
    },
    "id": "cvEV8_yaA1Ft",
    "outputId": "d294f2f6-cac8-4dd4-d182-52c74466385b"
   },
   "outputs": [],
   "source": [
    "# Save model in PKL file\n",
    "\n",
    "model_file = 'Linear_Regression.pkl'  \n",
    "joblib.dump(model, model_file)"
   ]
  },
  {
   "cell_type": "code",
   "execution_count": null,
   "metadata": {
    "colab": {
     "base_uri": "https://localhost:8080/"
    },
    "executionInfo": {
     "elapsed": 10666,
     "status": "ok",
     "timestamp": 1606093181500,
     "user": {
      "displayName": "NDS Núcleo de Data Science",
      "photoUrl": "",
      "userId": "17483566874171012124"
     },
     "user_tz": 0
    },
    "id": "c-Le4xtiA1Fu",
    "outputId": "ceb73a35-f3e6-488d-a57e-b0c9f7de587a"
   },
   "outputs": [],
   "source": [
    "# Load Model\n",
    "\n",
    "load_model = joblib.load(model_file)\n",
    "\n",
    "# Make new predictions\n",
    "\n",
    "print(X_test)\n",
    "load_model.predict(X_test)"
   ]
  },
  {
   "cell_type": "markdown",
   "metadata": {
    "id": "YJWV7eB1A1Fu"
   },
   "source": [
    "##### You are now ready to make your first Machine Learning model. See you in the \"Intro to Machine Learning - Exercises\" section!  👍"
   ]
  }
 ],
 "metadata": {
  "colab": {
   "collapsed_sections": [
    "JFCjdhkUA1Fq",
    "4IrvTvSVA1Fr",
    "SbKmP--SA1Fs",
    "iE01wXPDA1Fs",
    "7wFqEo0yA1Fs",
    "8Rya_SaMA1Ft",
    "tn0fhNrcA1Ft"
   ],
   "name": "Intro to Machine Learning.ipynb",
   "provenance": []
  },
  "kernelspec": {
   "display_name": "Python 3",
   "language": "python",
   "name": "python3"
  },
  "language_info": {
   "codemirror_mode": {
    "name": "ipython",
    "version": 3
   },
   "file_extension": ".py",
   "mimetype": "text/x-python",
   "name": "python",
   "nbconvert_exporter": "python",
   "pygments_lexer": "ipython3",
   "version": "3.8.3"
  }
 },
 "nbformat": 4,
 "nbformat_minor": 4
}
