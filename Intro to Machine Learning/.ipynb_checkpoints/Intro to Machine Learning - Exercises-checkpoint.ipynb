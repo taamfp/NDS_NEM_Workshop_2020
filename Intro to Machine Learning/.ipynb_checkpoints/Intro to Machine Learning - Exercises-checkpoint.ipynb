{
 "cells": [
  {
   "cell_type": "markdown",
   "metadata": {
    "id": "9h4WZTLQdzIt"
   },
   "source": [
    "# Intro to Machine Learning - Exercises"
   ]
  },
  {
   "cell_type": "markdown",
   "metadata": {
    "id": "dY0UHLp4dzIt"
   },
   "source": [
    "We now have the first glimpse on what Machine Learning is and what it is capable of doing. In this section, you will test your knowledge, by training the model in a new set of data, use it to make new predictions, saving and loading it to future implementation to new data instances.\n",
    "\n",
    "Let's begin, shall we?"
   ]
  },
  {
   "cell_type": "markdown",
   "metadata": {
    "id": "vn9gqu3WdzIt"
   },
   "source": [
    "<img src=\"https://raw.githubusercontent.com/taamfp/NDS_NEM_Workshop_2020/main/Images/Model.gif\" width=\"700\" align=\"center\">"
   ]
  },
  {
   "cell_type": "code",
   "execution_count": null,
   "metadata": {
    "colab": {
     "base_uri": "https://localhost:8080/"
    },
    "executionInfo": {
     "elapsed": 1371,
     "status": "ok",
     "timestamp": 1606093179300,
     "user": {
      "displayName": "NDS Núcleo de Data Science",
      "photoUrl": "",
      "userId": "17483566874171012124"
     },
     "user_tz": 0
    },
    "id": "ovz5XeOAdzIt",
    "outputId": "b6c497f6-9742-455f-8c3f-e6842bc51e51"
   },
   "outputs": [],
   "source": [
    "# Libraries\n",
    "\n",
    "import requests\n",
    "from io import BytesIO\n",
    "import numpy as np\n",
    "import pandas as pd\n",
    "import matplotlib.pyplot as plt\n",
    "import seaborn as sn\n",
    "from pylab import rcParams\n",
    "from sklearn.model_selection import train_test_split\n",
    "from sklearn.linear_model import LinearRegression\n",
    "from sklearn.metrics import r2_score\n",
    "from sklearn.metrics import mean_absolute_error\n",
    "from sklearn.externals import joblib"
   ]
  },
  {
   "cell_type": "markdown",
   "metadata": {
    "id": "YL9GkXIPdzIu"
   },
   "source": [
    "#### 1. Get the data\n",
    "\n",
    "Additional information: the path of your file is 'https://raw.githubusercontent.com/taamfp/NDS_NEM_Workshop_2020/main/data/sample.csv'"
   ]
  },
  {
   "cell_type": "code",
   "execution_count": null,
   "metadata": {
    "id": "6Lu0NclidzIu"
   },
   "outputs": [],
   "source": [
    "# Write your code here."
   ]
  },
  {
   "cell_type": "markdown",
   "metadata": {
    "id": "SS56Ft87dzIu"
   },
   "source": [
    "#### 2. Organize the data"
   ]
  },
  {
   "cell_type": "markdown",
   "metadata": {
    "id": "HvieocjidzIu"
   },
   "source": [
    "Fill the NaN values in the dataframe with '0' value, drop columns with NaN values count > 100 and get only the numerical features."
   ]
  },
  {
   "cell_type": "code",
   "execution_count": null,
   "metadata": {
    "id": "ERBOssxLdzIu"
   },
   "outputs": [],
   "source": [
    "# Write your code here"
   ]
  },
  {
   "cell_type": "markdown",
   "metadata": {
    "id": "JHtlrbD1dzIu"
   },
   "source": [
    "#### 3. Setting train and test sets."
   ]
  },
  {
   "cell_type": "markdown",
   "metadata": {
    "id": "manFShiDdzIu"
   },
   "source": [
    "Divide your dataframe in train and test sets, but this time set the test_size to 30% of the dataframe size."
   ]
  },
  {
   "cell_type": "code",
   "execution_count": null,
   "metadata": {
    "id": "2by4TmIKdzIu"
   },
   "outputs": [],
   "source": [
    "# Write your code here"
   ]
  },
  {
   "cell_type": "markdown",
   "metadata": {
    "id": "ceL6OZIpdzIu"
   },
   "source": [
    "#### 4. Set the model"
   ]
  },
  {
   "cell_type": "markdown",
   "metadata": {
    "id": "SipiGY27dzIu"
   },
   "source": [
    "Set the Linear Regression Model."
   ]
  },
  {
   "cell_type": "code",
   "execution_count": null,
   "metadata": {
    "id": "mzpTsRB0dzIu"
   },
   "outputs": [],
   "source": [
    "# Write your code here"
   ]
  },
  {
   "cell_type": "markdown",
   "metadata": {
    "id": "7HNx8Z7LdzIu"
   },
   "source": [
    "#### 5. Evaluate the model"
   ]
  },
  {
   "cell_type": "markdown",
   "metadata": {
    "id": "xIPAHkYGdzIu"
   },
   "source": [
    "Using the previous metrics, calculate the performance of the model and compare with the original results."
   ]
  },
  {
   "cell_type": "code",
   "execution_count": null,
   "metadata": {
    "id": "ngv0Mt1edzIu"
   },
   "outputs": [],
   "source": [
    "# Write your code here"
   ]
  },
  {
   "cell_type": "markdown",
   "metadata": {
    "id": "Lywtq2fsfDMS"
   },
   "source": [
    "#### 7. Load model"
   ]
  },
  {
   "cell_type": "markdown",
   "metadata": {
    "id": "nt6yhT2gfLMb"
   },
   "source": [
    "Use the model trained in the Learning section to make predictions about new data.\n",
    "\n",
    "Additional information: as advance, the model file and the new data are given."
   ]
  },
  {
   "cell_type": "code",
   "execution_count": null,
   "metadata": {
    "colab": {
     "base_uri": "https://localhost:8080/"
    },
    "executionInfo": {
     "elapsed": 1729,
     "status": "ok",
     "timestamp": 1606093179680,
     "user": {
      "displayName": "NDS Núcleo de Data Science",
      "photoUrl": "",
      "userId": "17483566874171012124"
     },
     "user_tz": 0
    },
    "id": "qKaPrdcbfuR_",
    "outputId": "ed64e82b-3584-47a3-d7cd-3c7c9a0fd013"
   },
   "outputs": [],
   "source": [
    "# Model file\n",
    "\n",
    "model_file = 'https://raw.githubusercontent.com/taamfp/NDS_NEM_Workshop_2020/main/Linear_Regression.pkl?raw=true'\n",
    "model_file = BytesIO(requests.get(model_file).content)\n",
    "load_model = joblib.load(model_file)\n",
    "\n",
    "# Data\n",
    "test_data = 'https://raw.githubusercontent.com/taamfp/NDS_NEM_Workshop_2020/main/data/test.csv'\n",
    "test_data = pd.read_csv(test_data, index_col=0)\n",
    "test_data = test_data.select_dtypes(include=['int64', 'float64'])\n",
    "test_data.dropna()\n",
    "test_data.fillna(0, inplace=True)\n",
    "test_data = test_data.loc[:, test_data.any()]"
   ]
  },
  {
   "cell_type": "code",
   "execution_count": null,
   "metadata": {
    "id": "AsiliaoThsxF"
   },
   "outputs": [],
   "source": [
    "# Write your code here"
   ]
  },
  {
   "cell_type": "markdown",
   "metadata": {
    "id": "X-FdySLvdzIu"
   },
   "source": [
    "#### Despite the results you might obtain, well done! You now have the insights on Machine Learnings and can explore this incredible field!"
   ]
  },
  {
   "cell_type": "markdown",
   "metadata": {
    "id": "rbXkq-rBdzIu"
   },
   "source": [
    "<img src=\"https://raw.githubusercontent.com/taamfp/NDS_NEM_Workshop_2020/main/Images/robot_training.gif\" width=\"700\" align=\"center\">"
   ]
  }
 ],
 "metadata": {
  "colab": {
   "collapsed_sections": [],
   "name": "Intro to Machine Learning - Exercises.ipynb",
   "provenance": []
  },
  "kernelspec": {
   "display_name": "Python 3",
   "language": "python",
   "name": "python3"
  },
  "language_info": {
   "codemirror_mode": {
    "name": "ipython",
    "version": 3
   },
   "file_extension": ".py",
   "mimetype": "text/x-python",
   "name": "python",
   "nbconvert_exporter": "python",
   "pygments_lexer": "ipython3",
   "version": "3.8.3"
  }
 },
 "nbformat": 4,
 "nbformat_minor": 4
}
