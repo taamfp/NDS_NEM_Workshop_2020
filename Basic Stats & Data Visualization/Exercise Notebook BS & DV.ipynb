{
 "cells": [
  {
   "cell_type": "markdown",
   "metadata": {},
   "source": [
    "# Basic Statistics and Data Visualization"
   ]
  },
  {
   "cell_type": "markdown",
   "metadata": {},
   "source": [
    "**This module aims to test your knowledge in calculating basics statistics and preform basic visualizations**"
   ]
  },
  {
   "cell_type": "markdown",
   "metadata": {},
   "source": [
    "To learn about Basic Stats and Data Visualization, we are going to use a modified version of [The Movies Dataset](https://www.kaggle.com/rounakbanik/the-movies-dataset) which has information about movies\n",
    "\n",
    "The dataset is located at `data/movies.csv`, and has the following fields\n",
    "\n",
    "```\n",
    "    budget: Movie budget (in $).\n",
    "    genre: Genre the movie belongs to.\n",
    "    original_language: Language the movie was originally filmed in.\n",
    "    production_company: Name of the production company.\n",
    "    production_country: Country where the movie was produced.\n",
    "    release_year: Year the movie was released.\n",
    "    revenue: Movie ticket sales (in $).\n",
    "    runtime: Movie duration (in minutes).\n",
    "    title: Movie title.\n",
    "    vote_average: Average rating in MovieLens.\n",
    "    vote_count: Number of votes in MovieLens.\n",
    "    release_year: Year the movie was released\n",
    "```"
   ]
  },
  {
   "cell_type": "markdown",
   "metadata": {},
   "source": [
    "Importing the necessary packages"
   ]
  },
  {
   "cell_type": "code",
   "execution_count": null,
   "metadata": {},
   "outputs": [],
   "source": [
    "import pandas as pd\n",
    "import numpy as np\n",
    "import matplotlib\n",
    "import matplotlib.pyplot as plt\n",
    "import math \n",
    "import hashlib"
   ]
  },
  {
   "cell_type": "markdown",
   "metadata": {},
   "source": [
    "Importing data"
   ]
  },
  {
   "cell_type": "code",
   "execution_count": null,
   "metadata": {},
   "outputs": [],
   "source": [
    "movies = pd.read_csv(\"data/movies.csv\")"
   ]
  },
  {
   "cell_type": "markdown",
   "metadata": {},
   "source": [
    "What's the dimension of our data?"
   ]
  },
  {
   "cell_type": "code",
   "execution_count": null,
   "metadata": {},
   "outputs": [],
   "source": [
    "movies.shape"
   ]
  },
  {
   "cell_type": "markdown",
   "metadata": {},
   "source": [
    "Let's see how our data look like"
   ]
  },
  {
   "cell_type": "code",
   "execution_count": null,
   "metadata": {},
   "outputs": [],
   "source": [
    "movies.head()"
   ]
  },
  {
   "cell_type": "markdown",
   "metadata": {},
   "source": [
    "## Basic Statistics"
   ]
  },
  {
   "cell_type": "markdown",
   "metadata": {},
   "source": [
    "---\n",
    "### Ex1. How many votes has the most voted movie? What is its `Id`? What is its `Title`? How many votes has the least voted movie? What is its `Id`? What is its `Title`?"
   ]
  },
  {
   "cell_type": "code",
   "execution_count": null,
   "metadata": {},
   "outputs": [],
   "source": [
    "# YOUR CODE HERE"
   ]
  },
  {
   "cell_type": "code",
   "execution_count": null,
   "metadata": {},
   "outputs": [],
   "source": [
    "number_votes_most_voted_movie_hash = 7289091718542825017\n",
    "id_most_voted_movie_hash = 6430904777360137614\n",
    "title_most_voted_movie_hash = 3137659225704790758\n",
    "number_votes_least_voted_movie_hash = 4685905418773825377\n",
    "id_least_voted_movie_hash = -4428088901142818636\n",
    "title_least_voted_movie_hash = 7976510494291908846\n",
    "\n",
    "assert number_votes_most_voted_movie_hash == hash(str(number_votes_most_voted_movie))\n",
    "assert id_most_voted_movie_hash == hash(str(id_most_voted_movie))\n",
    "assert title_most_voted_movie_hash == hash(str(title_most_voted_movie))\n",
    "assert number_votes_least_voted_movie_hash == hash(str(number_votes_least_voted_movie))\n",
    "assert id_least_voted_movie_hash == hash(str(id_least_voted_movie)), \"If there are multiple \"\\\n",
    "\"movies with the minimum amount of votes, return the id of the first occurrence.\"\n",
    "assert title_least_voted_movie_hash == hash(str(title_least_voted_movie)), \"If there \"\\\n",
    "\"are multiple movies with the minimum amount of votes, return the title of the first occurrence.\""
   ]
  },
  {
   "cell_type": "markdown",
   "metadata": {},
   "source": [
    "---\n",
    "### Ex2. Find how many movies share the maximum and minimum number of votes."
   ]
  },
  {
   "cell_type": "markdown",
   "metadata": {},
   "source": [
    "Remember that `idxmax` and `idxmin` only return the index of the first of occurrence."
   ]
  },
  {
   "cell_type": "code",
   "execution_count": null,
   "metadata": {},
   "outputs": [],
   "source": [
    "# YOUR CODE HERE"
   ]
  },
  {
   "cell_type": "code",
   "execution_count": null,
   "metadata": {},
   "outputs": [],
   "source": [
    "number_most_voted_movies_hash = 5147904555119197763\n",
    "number_least_voted_movies_hash = -7126902051461846454\n",
    "\n",
    "assert number_most_voted_movies_hash == hash(str(number_most_voted_movies))\n",
    "assert number_least_voted_movies_hash == hash(str(number_least_voted_movies))"
   ]
  },
  {
   "cell_type": "markdown",
   "metadata": {},
   "source": [
    "---\n",
    "### Ex3. Analyse each movie's final Vote Average"
   ]
  },
  {
   "cell_type": "markdown",
   "metadata": {},
   "source": [
    " Find the following information:\n",
    "- What is the minimum and maximum vote average?\n",
    "- What is the most common vote average?\n",
    "- What is the average vote average?\n",
    "- What is the median vote average?\n",
    "- What is the standard deviation of the vote average?\n",
    "- What is the variance of the vote average?"
   ]
  },
  {
   "cell_type": "code",
   "execution_count": null,
   "metadata": {},
   "outputs": [],
   "source": [
    "# YOUR CODE HERE"
   ]
  },
  {
   "cell_type": "code",
   "execution_count": null,
   "metadata": {},
   "outputs": [],
   "source": [
    "maximum_hash = -4180081336580325598\n",
    "minimum_hash = 4685905418773825377\n",
    "most_common_hash = -825377147955171141\n",
    "\n",
    "assert maximum_hash == hash(str(maximum))\n",
    "assert minimum_hash == hash(str(minimum))\n",
    "assert most_common_hash == hash(str(most_common))\n",
    "assert math.isclose(average, 6.18, abs_tol = 0.01)\n",
    "assert median == 6.3\n",
    "assert math.isclose(standard_deviation, 1.09, abs_tol = 0.01)\n",
    "assert math.isclose(variance, 1.21, abs_tol = 0.01)"
   ]
  },
  {
   "cell_type": "markdown",
   "metadata": {},
   "source": [
    "## Data Visualization"
   ]
  },
  {
   "cell_type": "markdown",
   "metadata": {},
   "source": [
    "Change the default chart size to 8 inches width and 8 inches height"
   ]
  },
  {
   "cell_type": "code",
   "execution_count": null,
   "metadata": {},
   "outputs": [],
   "source": [
    "inches_wide = 8\n",
    "inches_high = 8\n",
    "plt.rcParams[\"figure.figsize\"] = [inches_wide, inches_high]"
   ]
  },
  {
   "cell_type": "markdown",
   "metadata": {},
   "source": [
    "### Note about the grading\n",
    "\n",
    "Grading plots is difficult, we are using `plotchecker` to grade the plots with nbgrader. \n",
    "For `plotchecker` to work with nbgrader, we need to add on each cell, the line\n",
    "\n",
    "`axis = plt.gca();`\n",
    "\n",
    "<div class=\"alert alert-danger\">\n",
    "<b>NOTE:</b>If you get the ImportError, plotchecker not defined, make sure you activate the right environment for this unit!\n",
    "</div>\n",
    "\n",
    "**After the code required to do the plot**.\n",
    "\n",
    "For example, if we want to plot a scatter plot showing the relationship between budget and vote average we would do as follows:"
   ]
  },
  {
   "cell_type": "code",
   "execution_count": null,
   "metadata": {},
   "outputs": [],
   "source": [
    "# code required to plot\n",
    "movies.plot.scatter(x=\"budget\",y=\"vote_average\" )\n",
    "\n",
    "# last line in the cell required to \"capture\" the cell and being able to grade it with nbgrader\n",
    "axis = plt.gca();"
   ]
  },
  {
   "cell_type": "markdown",
   "metadata": {},
   "source": [
    "---\n",
    "### Ex4. How does the budget correlate with the revenue?"
   ]
  },
  {
   "cell_type": "code",
   "execution_count": null,
   "metadata": {},
   "outputs": [],
   "source": [
    "# YOUR CODE HERE\n",
    "\n",
    "axis = plt.gca();"
   ]
  },
  {
   "cell_type": "code",
   "execution_count": null,
   "metadata": {},
   "outputs": [],
   "source": [
    "from plotchecker import PlotChecker\n",
    "def get_data(p, ax=0):\n",
    "    \"\"\"\n",
    "    Parses the plotchecker object to get the relevant data for evaluation.\n",
    "    \"\"\"\n",
    "    all_x_data = []\n",
    "    lines = p.axis.get_lines()\n",
    "    collections = axis.collections\n",
    "    if len(lines) > 0:\n",
    "        all_x_data.append(np.concatenate([x.get_xydata()[:, ax] for x in lines]))\n",
    "    if len(collections) > 0:\n",
    "        all_x_data.append(np.concatenate([x.get_offsets()[:, ax] for x in collections]))\n",
    "    return np.concatenate(all_x_data, axis=0)\n",
    "\n",
    "pc = PlotChecker(axis)\n",
    "data = get_data(pc)\n",
    "assert len(data) == 756, \"Did you set the right variables for the plot axes?\"\n",
    "assert set([pc.xlabel] + [pc.ylabel]) == set([\"budget\", \"revenue\"]), \"Did you set the right variables for the plot axes?\"\n",
    "np.testing.assert_equal(get_data(pc,1), movies.revenue)\n",
    "print(\"Success!\")"
   ]
  },
  {
   "cell_type": "markdown",
   "metadata": {},
   "source": [
    "---\n",
    "### Ex5. How does the average vote count of movies evolves over time? Set the plot title to \"Average movie vote count by year\""
   ]
  },
  {
   "cell_type": "markdown",
   "metadata": {},
   "source": [
    "To calculate the average revenue by year we need to perform an [aggregation](https://jakevdp.github.io/PythonDataScienceHandbook/03.08-aggregation-and-grouping.html), pandas support this by doing a technique called [Split-Apply-Combine](https://pandas.pydata.org/pandas-docs/stable/user_guide/groupby.html). This will be explained in the Data Wrangling Specialization."
   ]
  },
  {
   "cell_type": "markdown",
   "metadata": {},
   "source": [
    "For now we will do the grouping for you:"
   ]
  },
  {
   "cell_type": "code",
   "execution_count": null,
   "metadata": {},
   "outputs": [],
   "source": [
    "avg_vote_count_by_year = movies.groupby(\"release_year\")[\"vote_count\"].mean().reset_index()\n",
    "avg_vote_count_by_year.columns = [\"release_year\", \"avg_vote_count\"]\n",
    "avg_vote_count_by_year.head()"
   ]
  },
  {
   "cell_type": "code",
   "execution_count": null,
   "metadata": {},
   "outputs": [],
   "source": [
    "# YOUR CODE HERE\n",
    "\n",
    "axis = plt.gca();"
   ]
  },
  {
   "cell_type": "code",
   "execution_count": null,
   "metadata": {},
   "outputs": [],
   "source": [
    "pc = PlotChecker(axis)\n",
    "np.testing.assert_equal(get_data(pc), sorted(movies[movies.runtime.notnull()].release_year.unique()))\n",
    "np.testing.assert_equal(get_data(pc, ax=1), movies.groupby(\"release_year\")[\"vote_count\"].mean())\n",
    "\n",
    "assert set([pc.xlabel] + [pc.ylabel]) == set([\"release_year\", \"avg_vote_count\"]), \"Did you set the right variables for the plot axes?\"\n",
    "pc.assert_title_equal(\"Average movie vote count by year\")\n",
    "print(\"Success!\")"
   ]
  },
  {
   "cell_type": "markdown",
   "metadata": {},
   "source": [
    "---\n",
    "### Ex6. How is the variable `runtime` distributed? Show only movies with a maximum runtime of 3 hours, and change the number of bins to 30. Change the bar color to `red`"
   ]
  },
  {
   "cell_type": "markdown",
   "metadata": {},
   "source": [
    "**hint:** [See here how to change plot options](https://pandas.pydata.org/pandas-docs/stable/reference/api/pandas.DataFrame.plot.html)"
   ]
  },
  {
   "cell_type": "code",
   "execution_count": null,
   "metadata": {},
   "outputs": [],
   "source": [
    "# YOUR CODE HERE\n",
    "\n",
    "axis = plt.gca();"
   ]
  },
  {
   "cell_type": "code",
   "execution_count": null,
   "metadata": {},
   "outputs": [],
   "source": [
    "pc = PlotChecker(axis)\n",
    "pc._patches = np.array(pc.axis.patches)\n",
    "pc._patches = pc._patches[np.argsort([p.get_x() for p in pc._patches])]\n",
    "pc.widths = np.array([p.get_width() for p in pc._patches])\n",
    "pc.heights = np.array([p.get_height() for p in pc._patches])\n",
    "\n",
    "np.testing.assert_allclose(pc.heights, [  5.,   0.,   0.,   0.,   0.,   0.,   0.,   0.,   1.,   2.,   4.,\n",
    "        15.,  80., 116., 134., 100.,  79.,  67.,  37.,  26.,  15.,   7.,\n",
    "        11.,   6.,   4.,   0.,   0.,   1.,   0.,   1.])\n",
    "np.testing.assert_allclose(pc.widths, [6.9 for i in range(len(pc.widths))])\n",
    "assert pc.xlim[1] == 180, \"Did you read the data dictionary?\"\n",
    "assert pc._patches[0].get_facecolor() == (1., 0., 0., 1.), \"Did you change the plot color?\"\n",
    "print(\"Success!\")"
   ]
  },
  {
   "cell_type": "markdown",
   "metadata": {},
   "source": [
    "---\n",
    "### Ex7. Make a plot that displays the budget broken by movie language and that allows us to check if there are outliers."
   ]
  },
  {
   "cell_type": "markdown",
   "metadata": {},
   "source": [
    "**hint:** [Check this Visualization](https://pandas.pydata.org/pandas-docs/stable/reference/api/pandas.DataFrame.boxplot.html)"
   ]
  },
  {
   "cell_type": "code",
   "execution_count": null,
   "metadata": {},
   "outputs": [],
   "source": [
    "plt.style.use('seaborn')\n",
    "# YOUR CODE HERE\n",
    "\n",
    "axis = plt.gca();"
   ]
  },
  {
   "cell_type": "code",
   "execution_count": null,
   "metadata": {},
   "outputs": [],
   "source": [
    "pc = PlotChecker(axis)\n",
    "pc._lines = pc.axis.get_lines()\n",
    "pc.colors = np.array([pc._color2rgb(x.get_color()) for x in pc._lines])\n",
    "np.testing.assert_allclose(pc.colors[0],[0.29803922, 0.44705882, 0.69019608])\n",
    "np.testing.assert_allclose(pc.yticks,np.array([-2.50,0,2.5,5,7.5,10,12.5,15,17.5,20])*1e7)\n",
    "assert pc.xticklabels == ['en', 'fr', 'hi', 'it', 'ru'], \"Did you select the right categorical variable for the plot?\"\n",
    "print(\"Success!\")"
   ]
  },
  {
   "cell_type": "code",
   "execution_count": null,
   "metadata": {},
   "outputs": [],
   "source": [
    "print('Well Done!!')"
   ]
  }
 ],
 "metadata": {
  "kernelspec": {
   "display_name": "Python 3",
   "language": "python",
   "name": "python3"
  },
  "language_info": {
   "codemirror_mode": {
    "name": "ipython",
    "version": 3
   },
   "file_extension": ".py",
   "mimetype": "text/x-python",
   "name": "python",
   "nbconvert_exporter": "python",
   "pygments_lexer": "ipython3",
   "version": "3.7.4"
  }
 },
 "nbformat": 4,
 "nbformat_minor": 4
}
