{
 "cells": [
  {
   "cell_type": "markdown",
   "metadata": {
    "id": "jp4GbaECPSsF"
   },
   "source": [
    "# Workshop NEM"
   ]
  },
  {
   "cell_type": "markdown",
   "metadata": {
    "id": "BQk6-kK0PSsG"
   },
   "source": [
    "![](https://github.com/taamfp/NDS_NEM_Workshop_2020/blob/main/Images/img_pandas/pandas_logo.png?raw=true)\n"
   ]
  },
  {
   "cell_type": "markdown",
   "metadata": {
    "id": "bqFjdP0KPSsH"
   },
   "source": [
    "### The Pandas library allows extensive applicability of functions when talking about data. With Pandas, analyzing data has become an easier task."
   ]
  },
  {
   "cell_type": "markdown",
   "metadata": {
    "id": "yU0jtvQ9PSsH"
   },
   "source": [
    "# Pandas module"
   ]
  },
  {
   "cell_type": "markdown",
   "metadata": {
    "id": "tOAndKhcPSsI"
   },
   "source": [
    "![](https://github.com/taamfp/NDS_NEM_Workshop_2020/blob/main/Images/img_pandas/Pandas.png?raw=true)\n"
   ]
  },
  {
   "cell_type": "markdown",
   "metadata": {
    "id": "2QqBl5l-PSsI"
   },
   "source": [
    "### There are two things you must know about: Series and DataFrame.\n",
    "\n",
    "Series is a one-dimensional ndarray with axis labels. When we create a series, this is what be obtain:\n",
    "series1 = pd.Series([‘Ana’,’Maria’,’Joana’])\n"
   ]
  },
  {
   "cell_type": "markdown",
   "metadata": {
    "id": "yjgZCjEMPSsJ"
   },
   "source": [
    "![](https://github.com/nucleodatasciencefct/NEGI_NDS/blob/master/img/Graphics1.png?raw=true)"
   ]
  },
  {
   "cell_type": "markdown",
   "metadata": {
    "id": "HmiOPiQkPSsJ"
   },
   "source": [
    "And what is a DataFrame? It’s basically a table with data…"
   ]
  },
  {
   "cell_type": "markdown",
   "metadata": {
    "id": "4FGX06fjPSsK"
   },
   "source": [
    "![](https://github.com/taamfp/NDS_NEM_Workshop_2020/blob/main/Images/img_pandas/Graphics2.png?raw=true)"
   ]
  },
  {
   "cell_type": "markdown",
   "metadata": {
    "id": "Hp4H0Zf7PSsK"
   },
   "source": [
    "A DataFrame can be created:"
   ]
  },
  {
   "cell_type": "markdown",
   "metadata": {
    "id": "YlH13ksQPSsL"
   },
   "source": [
    "![](https://github.com/taamfp/NDS_NEM_Workshop_2020/blob/main/Images/img_pandas/Graphics3.png?raw=true)"
   ]
  },
  {
   "cell_type": "code",
   "execution_count": 3,
   "metadata": {
    "id": "bRgfvAGRPSsL"
   },
   "outputs": [],
   "source": [
    "import pandas as pd"
   ]
  },
  {
   "cell_type": "code",
   "execution_count": null,
   "metadata": {
    "id": "zoqA_iX8PSsO"
   },
   "outputs": [],
   "source": [
    "df1 = pd.DataFrame([[1,2,3],[4,5,6]], columns=['col1', 'col2', 'col3'])"
   ]
  },
  {
   "cell_type": "markdown",
   "metadata": {
    "id": "YLe89Du9PSsR"
   },
   "source": [
    "And the indexes can be numeric, like the example before, or not. For example:"
   ]
  },
  {
   "cell_type": "markdown",
   "metadata": {
    "id": "ZUB8JBTTPSsR"
   },
   "source": [
    "![](https://github.com/taamfp/NDS_NEM_Workshop_2020/blob/main/Images/img_pandas/Graphics4.png?raw=true)"
   ]
  },
  {
   "cell_type": "code",
   "execution_count": null,
   "metadata": {
    "id": "md4xyrsSPSsS"
   },
   "outputs": [],
   "source": [
    "df2 = pd.DataFrame([[1, 2], [4, 5], [7, 8]],index=['cobra', 'viper', 'sidewinder'],columns=['max_speed', 'shield'])"
   ]
  },
  {
   "cell_type": "code",
   "execution_count": null,
   "metadata": {},
   "outputs": [],
   "source": [
    "df2"
   ]
  },
  {
   "cell_type": "markdown",
   "metadata": {
    "id": "ERCICZTaPSsU"
   },
   "source": [
    "We can also create a DataFrame using a dictionary (explain what a dictionary in python is in case there is someone that does not know):"
   ]
  },
  {
   "cell_type": "code",
   "execution_count": null,
   "metadata": {
    "id": "-bS1AxOUPSsV"
   },
   "outputs": [],
   "source": [
    "mydict = [{'a': 1, 'b': 2, 'c': 3, 'd': 4},\n",
    "{'a': 100, 'b': 200, 'c': 300, 'd': 400},\n",
    "{'a': 1000, 'b': 2000, 'c': 3000, 'd': 4000 }]\n",
    "df3 = pd.DataFrame(mydict)"
   ]
  },
  {
   "cell_type": "code",
   "execution_count": null,
   "metadata": {},
   "outputs": [],
   "source": [
    "df3"
   ]
  },
  {
   "cell_type": "markdown",
   "metadata": {
    "id": "hbvkQVBYPSsY"
   },
   "source": [
    "Let's look into the data in df3 and types of each column"
   ]
  },
  {
   "cell_type": "code",
   "execution_count": null,
   "metadata": {
    "id": "e2ngyMXWPSsY",
    "outputId": "fe6cd652-0787-4794-db9c-001b5269b793"
   },
   "outputs": [],
   "source": [
    "df3.head()"
   ]
  },
  {
   "cell_type": "code",
   "execution_count": null,
   "metadata": {
    "id": "0OWRY9MyPSsc",
    "outputId": "c2858e62-2af8-40b7-a69b-412ed3913e7a"
   },
   "outputs": [],
   "source": [
    "df3.dtypes"
   ]
  },
  {
   "cell_type": "markdown",
   "metadata": {
    "id": "WemJh9xLPSse"
   },
   "source": [
    "Now we want to select specific rows and columns. There are two ways of doing this (iloc and loc methods). With iloc, we select the **indexes** of the rows/columns we want to select. With loc we use the labels."
   ]
  },
  {
   "cell_type": "markdown",
   "metadata": {
    "id": "95wDlLIPPSse"
   },
   "source": [
    "df.iloc[rows,columns]"
   ]
  },
  {
   "cell_type": "markdown",
   "metadata": {
    "id": "vgaGMuUKPSsf"
   },
   "source": [
    "Selecting a single column, you can obtain two results: a Serie or a DataFrame."
   ]
  },
  {
   "cell_type": "code",
   "execution_count": null,
   "metadata": {
    "id": "ZkpWw7igPSsf",
    "outputId": "406d8b8b-ad0b-46b8-fbb3-a1ec2a7b9a73",
    "scrolled": true
   },
   "outputs": [],
   "source": [
    "print(type(df3.iloc[0])) #Series\n",
    "print(type(df3.iloc[[0]])) #DataFrames"
   ]
  },
  {
   "cell_type": "markdown",
   "metadata": {
    "id": "MvCFdOy7PSsi"
   },
   "source": [
    "**Now lets select values from the dataframe**  \n",
    "Try the different examples and see what you obtain:"
   ]
  },
  {
   "cell_type": "code",
   "execution_count": null,
   "metadata": {
    "id": "FTHN-uN3PSsi",
    "outputId": "4593a2c8-fb2e-4701-ea51-951e13c45ce8",
    "scrolled": true
   },
   "outputs": [],
   "source": [
    "df3.iloc[[0, 1]]"
   ]
  },
  {
   "cell_type": "code",
   "execution_count": null,
   "metadata": {
    "id": "GHEKAUVLPSsl",
    "outputId": "9d33f2e4-db61-475d-d4a0-b5b466f9cf10"
   },
   "outputs": [],
   "source": [
    "df3.iloc[:3]"
   ]
  },
  {
   "cell_type": "code",
   "execution_count": null,
   "metadata": {
    "id": "taOWxt2OPSsn",
    "outputId": "a87cb25c-6955-403a-f886-3f6a48f1721e"
   },
   "outputs": [],
   "source": [
    "df3.iloc[0, 1]"
   ]
  },
  {
   "cell_type": "code",
   "execution_count": null,
   "metadata": {
    "id": "phnlN8EdPSsq",
    "outputId": "e40841ff-7235-4f76-d3b7-452e9e12854b"
   },
   "outputs": [],
   "source": [
    "df3.iloc[[0, 2], [1, 3]]"
   ]
  },
  {
   "cell_type": "code",
   "execution_count": null,
   "metadata": {
    "id": "1TXiJuLDPSss",
    "outputId": "b3e859d9-76b8-4a69-95ab-7a1043687a2f"
   },
   "outputs": [],
   "source": [
    "df3.iloc[:,2:4]"
   ]
  },
  {
   "cell_type": "code",
   "execution_count": null,
   "metadata": {
    "id": "bILR-N2BPSsv",
    "outputId": "170d1afc-9407-4605-d75e-3dcef527823a",
    "scrolled": true
   },
   "outputs": [],
   "source": [
    "df3.iloc[1:3, 0:3]"
   ]
  },
  {
   "cell_type": "markdown",
   "metadata": {
    "id": "bbaRq5MjPSsx"
   },
   "source": [
    "In python an interval [3:6] translate to an interval from 3 (inclusive) to 6 (exclusive). Meaning that you will get things from positions 3,4 and 5, but not from 6.\n",
    "\n",
    "Now try the .loc method: "
   ]
  },
  {
   "cell_type": "code",
   "execution_count": null,
   "metadata": {
    "id": "EBZEn3TDPSsx",
    "outputId": "8f59e3b1-42b6-4be3-d5ba-7850fde34be5",
    "scrolled": true
   },
   "outputs": [],
   "source": [
    "df2.loc['viper']\n",
    "#df2.loc[['viper', 'sidewinder']]\n",
    "#df2.loc['cobra', 'shield']\n",
    "#df2.loc['cobra':'viper', 'max_speed']\n",
    "#df2.loc[df2['shield'] > 6]\n",
    "#df2.loc[df2['shield'] > 6, ['max_speed']]"
   ]
  },
  {
   "cell_type": "markdown",
   "metadata": {},
   "source": [
    "Now try to do it by yourself"
   ]
  },
  {
   "cell_type": "markdown",
   "metadata": {
    "id": "CJoQ905aPSs0"
   },
   "source": [
    "![](https://github.com/taamfp/NDS_NEM_Workshop_2020/blob/main/Images/img_pandas/lets_do_it.jpg?raw=true)"
   ]
  },
  {
   "cell_type": "code",
   "execution_count": 4,
   "metadata": {
    "id": "o2YwT2IXPSs6",
    "scrolled": true
   },
   "outputs": [],
   "source": [
    "df = pd.read_csv('https://raw.githubusercontent.com/taamfp/NDS_NEM_Workshop_2020/main/data/outlets.csv')"
   ]
  },
  {
   "cell_type": "markdown",
   "metadata": {
    "id": "vXjXf8wXPSs5"
   },
   "source": [
    "Alright, but now the goal is to get the a DataFrame with all infomation from `items`, `item_sales` and `outlets` per `Item_Identifier`"
   ]
  },
  {
   "cell_type": "markdown",
   "metadata": {
    "id": "09BxAZvgPSs8"
   },
   "source": [
    "Alright let's look to our data frame"
   ]
  },
  {
   "cell_type": "markdown",
   "metadata": {
    "id": "j8UxtAivPSs8"
   },
   "source": [
    "**Ex1**   \n",
    "Show Head of df"
   ]
  },
  {
   "cell_type": "code",
   "execution_count": null,
   "metadata": {
    "id": "W_A1YtwuPSs8",
    "outputId": "5f90a7e0-4a56-4d9d-cb22-3cf083506289",
    "scrolled": true
   },
   "outputs": [],
   "source": [
    "df.head()"
   ]
  },
  {
   "cell_type": "markdown",
   "metadata": {
    "id": "q0Ht7HHRPSs_"
   },
   "source": [
    "**Ex 2**  \n",
    "Select the first 2 columns from the df"
   ]
  },
  {
   "cell_type": "code",
   "execution_count": null,
   "metadata": {
    "id": "E-PM4QFbPSs_"
   },
   "outputs": [],
   "source": []
  },
  {
   "cell_type": "markdown",
   "metadata": {
    "id": "_LaCAtSkPStB"
   },
   "source": [
    "**Ex3**  \n",
    "How many rows and columns does the table have?"
   ]
  },
  {
   "cell_type": "code",
   "execution_count": null,
   "metadata": {
    "id": "aX2pdlfkPStC"
   },
   "outputs": [],
   "source": []
  },
  {
   "cell_type": "markdown",
   "metadata": {
    "id": "gbAO5T_0PStE"
   },
   "source": [
    "**Ex4**   \n",
    "Show types of the different columns"
   ]
  },
  {
   "cell_type": "code",
   "execution_count": null,
   "metadata": {
    "id": "BKNz5H2aPStF"
   },
   "outputs": [],
   "source": []
  },
  {
   "cell_type": "markdown",
   "metadata": {
    "id": "GCErTMhaPStH"
   },
   "source": [
    "**Ex5**   \n",
    "Select only the columns: `Item_Fat_Content` , `Item_Type`"
   ]
  },
  {
   "cell_type": "code",
   "execution_count": null,
   "metadata": {
    "id": "h-ezzVVoPStH"
   },
   "outputs": [],
   "source": []
  },
  {
   "cell_type": "markdown",
   "metadata": {
    "id": "mzWzg6z7PStJ"
   },
   "source": [
    "![ChessUrL](https://media1.tenor.com/images/9fc9fa0ed4ad8077a9447b27296771f0/tenor.gif?itemid=4968318 \"chess\")"
   ]
  },
  {
   "cell_type": "markdown",
   "metadata": {},
   "source": [
    "# 1.5 Subsetting data"
   ]
  },
  {
   "cell_type": "markdown",
   "metadata": {},
   "source": [
    "You can subset your dataframes based on conditions!"
   ]
  },
  {
   "cell_type": "markdown",
   "metadata": {},
   "source": [
    "## Based on a single condition"
   ]
  },
  {
   "cell_type": "markdown",
   "metadata": {},
   "source": [
    "Let's select all the outlets that are `Medium` size"
   ]
  },
  {
   "cell_type": "code",
   "execution_count": 13,
   "metadata": {},
   "outputs": [],
   "source": [
    "mask = df.Outlet_Size == \"Medium\""
   ]
  },
  {
   "cell_type": "markdown",
   "metadata": {},
   "source": [
    "This returns an array of `True` and `False`"
   ]
  },
  {
   "cell_type": "code",
   "execution_count": 14,
   "metadata": {},
   "outputs": [
    {
     "data": {
      "text/plain": [
       "0         True\n",
       "1         True\n",
       "2         True\n",
       "3         True\n",
       "4         True\n",
       "         ...  \n",
       "50230    False\n",
       "50231    False\n",
       "50232    False\n",
       "50233    False\n",
       "50234    False\n",
       "Name: Outlet_Size, Length: 50235, dtype: bool"
      ]
     },
     "execution_count": 14,
     "metadata": {},
     "output_type": "execute_result"
    }
   ],
   "source": [
    "mask"
   ]
  },
  {
   "cell_type": "markdown",
   "metadata": {},
   "source": [
    "Now we can use this to tell `.loc[]` to subset only the rows that have `True` in them."
   ]
  },
  {
   "cell_type": "code",
   "execution_count": 17,
   "metadata": {},
   "outputs": [
    {
     "data": {
      "text/html": [
       "<div>\n",
       "<style scoped>\n",
       "    .dataframe tbody tr th:only-of-type {\n",
       "        vertical-align: middle;\n",
       "    }\n",
       "\n",
       "    .dataframe tbody tr th {\n",
       "        vertical-align: top;\n",
       "    }\n",
       "\n",
       "    .dataframe thead th {\n",
       "        text-align: right;\n",
       "    }\n",
       "</style>\n",
       "<table border=\"1\" class=\"dataframe\">\n",
       "  <thead>\n",
       "    <tr style=\"text-align: right;\">\n",
       "      <th></th>\n",
       "      <th>Unnamed: 0</th>\n",
       "      <th>Outlet_Identifier</th>\n",
       "      <th>Outlet_Establishment_Year</th>\n",
       "      <th>Outlet_Size</th>\n",
       "      <th>Outlet_Location_Type</th>\n",
       "      <th>Outlet_Type</th>\n",
       "      <th>Item_Identifier</th>\n",
       "      <th>Outlet_Identifier.1</th>\n",
       "      <th>Item_Outlet_Sales</th>\n",
       "      <th>Item_Identifier.1</th>\n",
       "      <th>Item_Weight</th>\n",
       "      <th>Item_Fat_Content</th>\n",
       "      <th>Item_Visibility</th>\n",
       "      <th>Item_Type</th>\n",
       "      <th>Item_MRP</th>\n",
       "    </tr>\n",
       "  </thead>\n",
       "  <tbody>\n",
       "    <tr>\n",
       "      <th>0</th>\n",
       "      <td>0</td>\n",
       "      <td>OUT049</td>\n",
       "      <td>1999</td>\n",
       "      <td>Medium</td>\n",
       "      <td>Tier 1</td>\n",
       "      <td>Supermarket Type1</td>\n",
       "      <td>DRA24</td>\n",
       "      <td>OUT049</td>\n",
       "      <td>982.7208</td>\n",
       "      <td>DRA24</td>\n",
       "      <td>NaN</td>\n",
       "      <td>Regular</td>\n",
       "      <td>0.039735</td>\n",
       "      <td>Soft Drinks</td>\n",
       "      <td>165.7868</td>\n",
       "    </tr>\n",
       "    <tr>\n",
       "      <th>1</th>\n",
       "      <td>1</td>\n",
       "      <td>OUT049</td>\n",
       "      <td>1999</td>\n",
       "      <td>Medium</td>\n",
       "      <td>Tier 1</td>\n",
       "      <td>Supermarket Type1</td>\n",
       "      <td>DRA24</td>\n",
       "      <td>OUT049</td>\n",
       "      <td>982.7208</td>\n",
       "      <td>DRA24</td>\n",
       "      <td>NaN</td>\n",
       "      <td>Regular</td>\n",
       "      <td>0.069909</td>\n",
       "      <td>Soft Drinks</td>\n",
       "      <td>163.2868</td>\n",
       "    </tr>\n",
       "    <tr>\n",
       "      <th>2</th>\n",
       "      <td>2</td>\n",
       "      <td>OUT049</td>\n",
       "      <td>1999</td>\n",
       "      <td>Medium</td>\n",
       "      <td>Tier 1</td>\n",
       "      <td>Supermarket Type1</td>\n",
       "      <td>DRA24</td>\n",
       "      <td>OUT049</td>\n",
       "      <td>982.7208</td>\n",
       "      <td>DRA24</td>\n",
       "      <td>19.35</td>\n",
       "      <td>Regular</td>\n",
       "      <td>0.039895</td>\n",
       "      <td>Soft Drinks</td>\n",
       "      <td>162.4868</td>\n",
       "    </tr>\n",
       "  </tbody>\n",
       "</table>\n",
       "</div>"
      ],
      "text/plain": [
       "   Unnamed: 0 Outlet_Identifier  Outlet_Establishment_Year Outlet_Size  \\\n",
       "0           0            OUT049                       1999      Medium   \n",
       "1           1            OUT049                       1999      Medium   \n",
       "2           2            OUT049                       1999      Medium   \n",
       "\n",
       "  Outlet_Location_Type        Outlet_Type Item_Identifier Outlet_Identifier.1  \\\n",
       "0               Tier 1  Supermarket Type1           DRA24              OUT049   \n",
       "1               Tier 1  Supermarket Type1           DRA24              OUT049   \n",
       "2               Tier 1  Supermarket Type1           DRA24              OUT049   \n",
       "\n",
       "   Item_Outlet_Sales Item_Identifier.1  Item_Weight Item_Fat_Content  \\\n",
       "0           982.7208             DRA24          NaN          Regular   \n",
       "1           982.7208             DRA24          NaN          Regular   \n",
       "2           982.7208             DRA24        19.35          Regular   \n",
       "\n",
       "   Item_Visibility    Item_Type  Item_MRP  \n",
       "0         0.039735  Soft Drinks  165.7868  \n",
       "1         0.069909  Soft Drinks  163.2868  \n",
       "2         0.039895  Soft Drinks  162.4868  "
      ]
     },
     "execution_count": 17,
     "metadata": {},
     "output_type": "execute_result"
    }
   ],
   "source": [
    "medium_outlets = df.loc[mask]\n",
    "medium_outlets.head(3)"
   ]
  },
  {
   "cell_type": "markdown",
   "metadata": {},
   "source": [
    "We can also do interesting things with numbers. Let's pick all outlets that were established after the year 2000."
   ]
  },
  {
   "cell_type": "code",
   "execution_count": 20,
   "metadata": {},
   "outputs": [
    {
     "data": {
      "text/html": [
       "<div>\n",
       "<style scoped>\n",
       "    .dataframe tbody tr th:only-of-type {\n",
       "        vertical-align: middle;\n",
       "    }\n",
       "\n",
       "    .dataframe tbody tr th {\n",
       "        vertical-align: top;\n",
       "    }\n",
       "\n",
       "    .dataframe thead th {\n",
       "        text-align: right;\n",
       "    }\n",
       "</style>\n",
       "<table border=\"1\" class=\"dataframe\">\n",
       "  <thead>\n",
       "    <tr style=\"text-align: right;\">\n",
       "      <th></th>\n",
       "      <th>Unnamed: 0</th>\n",
       "      <th>Outlet_Identifier</th>\n",
       "      <th>Outlet_Establishment_Year</th>\n",
       "      <th>Outlet_Size</th>\n",
       "      <th>Outlet_Location_Type</th>\n",
       "      <th>Outlet_Type</th>\n",
       "      <th>Item_Identifier</th>\n",
       "      <th>Outlet_Identifier.1</th>\n",
       "      <th>Item_Outlet_Sales</th>\n",
       "      <th>Item_Identifier.1</th>\n",
       "      <th>Item_Weight</th>\n",
       "      <th>Item_Fat_Content</th>\n",
       "      <th>Item_Visibility</th>\n",
       "      <th>Item_Type</th>\n",
       "      <th>Item_MRP</th>\n",
       "    </tr>\n",
       "  </thead>\n",
       "  <tbody>\n",
       "    <tr>\n",
       "      <th>5423</th>\n",
       "      <td>5423</td>\n",
       "      <td>OUT018</td>\n",
       "      <td>2009</td>\n",
       "      <td>Medium</td>\n",
       "      <td>Tier 3</td>\n",
       "      <td>Supermarket Type2</td>\n",
       "      <td>DRA12</td>\n",
       "      <td>OUT018</td>\n",
       "      <td>850.8924</td>\n",
       "      <td>DRA12</td>\n",
       "      <td>11.6</td>\n",
       "      <td>LF</td>\n",
       "      <td>0.000000</td>\n",
       "      <td>Soft Drinks</td>\n",
       "      <td>141.9154</td>\n",
       "    </tr>\n",
       "    <tr>\n",
       "      <th>5424</th>\n",
       "      <td>5424</td>\n",
       "      <td>OUT018</td>\n",
       "      <td>2009</td>\n",
       "      <td>Medium</td>\n",
       "      <td>Tier 3</td>\n",
       "      <td>Supermarket Type2</td>\n",
       "      <td>DRA12</td>\n",
       "      <td>OUT018</td>\n",
       "      <td>850.8924</td>\n",
       "      <td>DRA12</td>\n",
       "      <td>11.6</td>\n",
       "      <td>Low Fat</td>\n",
       "      <td>0.000000</td>\n",
       "      <td>Soft Drinks</td>\n",
       "      <td>141.6154</td>\n",
       "    </tr>\n",
       "    <tr>\n",
       "      <th>5425</th>\n",
       "      <td>5425</td>\n",
       "      <td>OUT018</td>\n",
       "      <td>2009</td>\n",
       "      <td>Medium</td>\n",
       "      <td>Tier 3</td>\n",
       "      <td>Supermarket Type2</td>\n",
       "      <td>DRA12</td>\n",
       "      <td>OUT018</td>\n",
       "      <td>850.8924</td>\n",
       "      <td>DRA12</td>\n",
       "      <td>11.6</td>\n",
       "      <td>Low Fat</td>\n",
       "      <td>0.040912</td>\n",
       "      <td>Soft Drinks</td>\n",
       "      <td>142.3154</td>\n",
       "    </tr>\n",
       "  </tbody>\n",
       "</table>\n",
       "</div>"
      ],
      "text/plain": [
       "      Unnamed: 0 Outlet_Identifier  Outlet_Establishment_Year Outlet_Size  \\\n",
       "5423        5423            OUT018                       2009      Medium   \n",
       "5424        5424            OUT018                       2009      Medium   \n",
       "5425        5425            OUT018                       2009      Medium   \n",
       "\n",
       "     Outlet_Location_Type        Outlet_Type Item_Identifier  \\\n",
       "5423               Tier 3  Supermarket Type2           DRA12   \n",
       "5424               Tier 3  Supermarket Type2           DRA12   \n",
       "5425               Tier 3  Supermarket Type2           DRA12   \n",
       "\n",
       "     Outlet_Identifier.1  Item_Outlet_Sales Item_Identifier.1  Item_Weight  \\\n",
       "5423              OUT018           850.8924             DRA12         11.6   \n",
       "5424              OUT018           850.8924             DRA12         11.6   \n",
       "5425              OUT018           850.8924             DRA12         11.6   \n",
       "\n",
       "     Item_Fat_Content  Item_Visibility    Item_Type  Item_MRP  \n",
       "5423               LF         0.000000  Soft Drinks  141.9154  \n",
       "5424          Low Fat         0.000000  Soft Drinks  141.6154  \n",
       "5425          Low Fat         0.040912  Soft Drinks  142.3154  "
      ]
     },
     "execution_count": 20,
     "metadata": {},
     "output_type": "execute_result"
    }
   ],
   "source": [
    "after2000 = df.Outlet_Establishment_Year > 2000\n",
    "df.loc[after2000].head(3)"
   ]
  },
  {
   "cell_type": "markdown",
   "metadata": {},
   "source": [
    "## Based on multiple conditions"
   ]
  },
  {
   "cell_type": "markdown",
   "metadata": {},
   "source": [
    "We can also join as many conditions as we want with binary operators such as: `AND`, `OR`, `XOR`, etc.."
   ]
  },
  {
   "cell_type": "code",
   "execution_count": 23,
   "metadata": {},
   "outputs": [
    {
     "name": "stdout",
     "output_type": "stream",
     "text": [
      "(5436, 15)\n"
     ]
    },
    {
     "data": {
      "text/html": [
       "<div>\n",
       "<style scoped>\n",
       "    .dataframe tbody tr th:only-of-type {\n",
       "        vertical-align: middle;\n",
       "    }\n",
       "\n",
       "    .dataframe tbody tr th {\n",
       "        vertical-align: top;\n",
       "    }\n",
       "\n",
       "    .dataframe thead th {\n",
       "        text-align: right;\n",
       "    }\n",
       "</style>\n",
       "<table border=\"1\" class=\"dataframe\">\n",
       "  <thead>\n",
       "    <tr style=\"text-align: right;\">\n",
       "      <th></th>\n",
       "      <th>Unnamed: 0</th>\n",
       "      <th>Outlet_Identifier</th>\n",
       "      <th>Outlet_Establishment_Year</th>\n",
       "      <th>Outlet_Size</th>\n",
       "      <th>Outlet_Location_Type</th>\n",
       "      <th>Outlet_Type</th>\n",
       "      <th>Item_Identifier</th>\n",
       "      <th>Outlet_Identifier.1</th>\n",
       "      <th>Item_Outlet_Sales</th>\n",
       "      <th>Item_Identifier.1</th>\n",
       "      <th>Item_Weight</th>\n",
       "      <th>Item_Fat_Content</th>\n",
       "      <th>Item_Visibility</th>\n",
       "      <th>Item_Type</th>\n",
       "      <th>Item_MRP</th>\n",
       "    </tr>\n",
       "  </thead>\n",
       "  <tbody>\n",
       "    <tr>\n",
       "      <th>5423</th>\n",
       "      <td>5423</td>\n",
       "      <td>OUT018</td>\n",
       "      <td>2009</td>\n",
       "      <td>Medium</td>\n",
       "      <td>Tier 3</td>\n",
       "      <td>Supermarket Type2</td>\n",
       "      <td>DRA12</td>\n",
       "      <td>OUT018</td>\n",
       "      <td>850.8924</td>\n",
       "      <td>DRA12</td>\n",
       "      <td>11.6</td>\n",
       "      <td>LF</td>\n",
       "      <td>0.000000</td>\n",
       "      <td>Soft Drinks</td>\n",
       "      <td>141.9154</td>\n",
       "    </tr>\n",
       "    <tr>\n",
       "      <th>5424</th>\n",
       "      <td>5424</td>\n",
       "      <td>OUT018</td>\n",
       "      <td>2009</td>\n",
       "      <td>Medium</td>\n",
       "      <td>Tier 3</td>\n",
       "      <td>Supermarket Type2</td>\n",
       "      <td>DRA12</td>\n",
       "      <td>OUT018</td>\n",
       "      <td>850.8924</td>\n",
       "      <td>DRA12</td>\n",
       "      <td>11.6</td>\n",
       "      <td>Low Fat</td>\n",
       "      <td>0.000000</td>\n",
       "      <td>Soft Drinks</td>\n",
       "      <td>141.6154</td>\n",
       "    </tr>\n",
       "    <tr>\n",
       "      <th>5425</th>\n",
       "      <td>5425</td>\n",
       "      <td>OUT018</td>\n",
       "      <td>2009</td>\n",
       "      <td>Medium</td>\n",
       "      <td>Tier 3</td>\n",
       "      <td>Supermarket Type2</td>\n",
       "      <td>DRA12</td>\n",
       "      <td>OUT018</td>\n",
       "      <td>850.8924</td>\n",
       "      <td>DRA12</td>\n",
       "      <td>11.6</td>\n",
       "      <td>Low Fat</td>\n",
       "      <td>0.040912</td>\n",
       "      <td>Soft Drinks</td>\n",
       "      <td>142.3154</td>\n",
       "    </tr>\n",
       "  </tbody>\n",
       "</table>\n",
       "</div>"
      ],
      "text/plain": [
       "      Unnamed: 0 Outlet_Identifier  Outlet_Establishment_Year Outlet_Size  \\\n",
       "5423        5423            OUT018                       2009      Medium   \n",
       "5424        5424            OUT018                       2009      Medium   \n",
       "5425        5425            OUT018                       2009      Medium   \n",
       "\n",
       "     Outlet_Location_Type        Outlet_Type Item_Identifier  \\\n",
       "5423               Tier 3  Supermarket Type2           DRA12   \n",
       "5424               Tier 3  Supermarket Type2           DRA12   \n",
       "5425               Tier 3  Supermarket Type2           DRA12   \n",
       "\n",
       "     Outlet_Identifier.1  Item_Outlet_Sales Item_Identifier.1  Item_Weight  \\\n",
       "5423              OUT018           850.8924             DRA12         11.6   \n",
       "5424              OUT018           850.8924             DRA12         11.6   \n",
       "5425              OUT018           850.8924             DRA12         11.6   \n",
       "\n",
       "     Item_Fat_Content  Item_Visibility    Item_Type  Item_MRP  \n",
       "5423               LF         0.000000  Soft Drinks  141.9154  \n",
       "5424          Low Fat         0.000000  Soft Drinks  141.6154  \n",
       "5425          Low Fat         0.040912  Soft Drinks  142.3154  "
      ]
     },
     "execution_count": 23,
     "metadata": {},
     "output_type": "execute_result"
    }
   ],
   "source": [
    "subset = df.loc[after2000 & mask]\n",
    "print(subset.shape)\n",
    "subset.head(3)"
   ]
  },
  {
   "cell_type": "code",
   "execution_count": 25,
   "metadata": {},
   "outputs": [
    {
     "name": "stdout",
     "output_type": "stream",
     "text": [
      "(32736, 15)\n"
     ]
    },
    {
     "data": {
      "text/html": [
       "<div>\n",
       "<style scoped>\n",
       "    .dataframe tbody tr th:only-of-type {\n",
       "        vertical-align: middle;\n",
       "    }\n",
       "\n",
       "    .dataframe tbody tr th {\n",
       "        vertical-align: top;\n",
       "    }\n",
       "\n",
       "    .dataframe thead th {\n",
       "        text-align: right;\n",
       "    }\n",
       "</style>\n",
       "<table border=\"1\" class=\"dataframe\">\n",
       "  <thead>\n",
       "    <tr style=\"text-align: right;\">\n",
       "      <th></th>\n",
       "      <th>Unnamed: 0</th>\n",
       "      <th>Outlet_Identifier</th>\n",
       "      <th>Outlet_Establishment_Year</th>\n",
       "      <th>Outlet_Size</th>\n",
       "      <th>Outlet_Location_Type</th>\n",
       "      <th>Outlet_Type</th>\n",
       "      <th>Item_Identifier</th>\n",
       "      <th>Outlet_Identifier.1</th>\n",
       "      <th>Item_Outlet_Sales</th>\n",
       "      <th>Item_Identifier.1</th>\n",
       "      <th>Item_Weight</th>\n",
       "      <th>Item_Fat_Content</th>\n",
       "      <th>Item_Visibility</th>\n",
       "      <th>Item_Type</th>\n",
       "      <th>Item_MRP</th>\n",
       "    </tr>\n",
       "  </thead>\n",
       "  <tbody>\n",
       "    <tr>\n",
       "      <th>0</th>\n",
       "      <td>0</td>\n",
       "      <td>OUT049</td>\n",
       "      <td>1999</td>\n",
       "      <td>Medium</td>\n",
       "      <td>Tier 1</td>\n",
       "      <td>Supermarket Type1</td>\n",
       "      <td>DRA24</td>\n",
       "      <td>OUT049</td>\n",
       "      <td>982.7208</td>\n",
       "      <td>DRA24</td>\n",
       "      <td>NaN</td>\n",
       "      <td>Regular</td>\n",
       "      <td>0.039735</td>\n",
       "      <td>Soft Drinks</td>\n",
       "      <td>165.7868</td>\n",
       "    </tr>\n",
       "    <tr>\n",
       "      <th>1</th>\n",
       "      <td>1</td>\n",
       "      <td>OUT049</td>\n",
       "      <td>1999</td>\n",
       "      <td>Medium</td>\n",
       "      <td>Tier 1</td>\n",
       "      <td>Supermarket Type1</td>\n",
       "      <td>DRA24</td>\n",
       "      <td>OUT049</td>\n",
       "      <td>982.7208</td>\n",
       "      <td>DRA24</td>\n",
       "      <td>NaN</td>\n",
       "      <td>Regular</td>\n",
       "      <td>0.069909</td>\n",
       "      <td>Soft Drinks</td>\n",
       "      <td>163.2868</td>\n",
       "    </tr>\n",
       "    <tr>\n",
       "      <th>2</th>\n",
       "      <td>2</td>\n",
       "      <td>OUT049</td>\n",
       "      <td>1999</td>\n",
       "      <td>Medium</td>\n",
       "      <td>Tier 1</td>\n",
       "      <td>Supermarket Type1</td>\n",
       "      <td>DRA24</td>\n",
       "      <td>OUT049</td>\n",
       "      <td>982.7208</td>\n",
       "      <td>DRA24</td>\n",
       "      <td>19.35</td>\n",
       "      <td>Regular</td>\n",
       "      <td>0.039895</td>\n",
       "      <td>Soft Drinks</td>\n",
       "      <td>162.4868</td>\n",
       "    </tr>\n",
       "  </tbody>\n",
       "</table>\n",
       "</div>"
      ],
      "text/plain": [
       "   Unnamed: 0 Outlet_Identifier  Outlet_Establishment_Year Outlet_Size  \\\n",
       "0           0            OUT049                       1999      Medium   \n",
       "1           1            OUT049                       1999      Medium   \n",
       "2           2            OUT049                       1999      Medium   \n",
       "\n",
       "  Outlet_Location_Type        Outlet_Type Item_Identifier Outlet_Identifier.1  \\\n",
       "0               Tier 1  Supermarket Type1           DRA24              OUT049   \n",
       "1               Tier 1  Supermarket Type1           DRA24              OUT049   \n",
       "2               Tier 1  Supermarket Type1           DRA24              OUT049   \n",
       "\n",
       "   Item_Outlet_Sales Item_Identifier.1  Item_Weight Item_Fat_Content  \\\n",
       "0           982.7208             DRA24          NaN          Regular   \n",
       "1           982.7208             DRA24          NaN          Regular   \n",
       "2           982.7208             DRA24        19.35          Regular   \n",
       "\n",
       "   Item_Visibility    Item_Type  Item_MRP  \n",
       "0         0.039735  Soft Drinks  165.7868  \n",
       "1         0.069909  Soft Drinks  163.2868  \n",
       "2         0.039895  Soft Drinks  162.4868  "
      ]
     },
     "execution_count": 25,
     "metadata": {},
     "output_type": "execute_result"
    }
   ],
   "source": [
    "subset = df.loc[after2000 | mask] # \"|\" means \"OR\"\n",
    "print(subset.shape)\n",
    "subset.head(3)"
   ]
  },
  {
   "cell_type": "markdown",
   "metadata": {},
   "source": [
    "There you go! Knowing how to subset is a very useful skill. And now you have it, Congrats!"
   ]
  },
  {
   "cell_type": "markdown",
   "metadata": {
    "id": "3h5QrAPoPStJ"
   },
   "source": [
    "## 2. Pre-processing data and analysis"
   ]
  },
  {
   "cell_type": "markdown",
   "metadata": {
    "id": "kCN2JEloPStK"
   },
   "source": [
    "### 2.0 Overview of the Data"
   ]
  },
  {
   "cell_type": "code",
   "execution_count": null,
   "metadata": {
    "id": "zV6GW5d-PStK"
   },
   "outputs": [],
   "source": [
    "df = pd.read_csv('https://raw.githubusercontent.com/taamfp/NDS_NEM_Workshop_2020/main/data/data.csv')"
   ]
  },
  {
   "cell_type": "code",
   "execution_count": null,
   "metadata": {
    "id": "QJaTIV4yPStM",
    "outputId": "b2eccae4-188a-4870-a9a0-c6a05ab114a8",
    "scrolled": true
   },
   "outputs": [],
   "source": [
    "df.head()"
   ]
  },
  {
   "cell_type": "markdown",
   "metadata": {
    "id": "_nyvWIPJPStP"
   },
   "source": [
    "### 2.0.1 Data types"
   ]
  },
  {
   "cell_type": "code",
   "execution_count": null,
   "metadata": {
    "id": "OHdNIY8jPStP",
    "outputId": "8c8c3e64-d468-4b41-e354-ac1e241c2928",
    "scrolled": true
   },
   "outputs": [],
   "source": [
    "df.dtypes"
   ]
  },
  {
   "cell_type": "markdown",
   "metadata": {
    "id": "rZEiTmgiPStR"
   },
   "source": [
    "\n",
    "Some important types of objects in python:  \n",
    " - **integers**  : int/int32/in64        : \\[1,2,3,4\\]  \n",
    " - **float**     : float/float32/float64 : \\[1.7 ,2.1 ,3.4, 5.4\\]  \n",
    " - **string**    : str : \\['palavras','qualquer carachcter23423f95||??'\\]"
   ]
  },
  {
   "cell_type": "markdown",
   "metadata": {
    "id": "9stQRM-cPStS"
   },
   "source": [
    "Alright, but in that case what type of object is the column `Item_Identifier`?  \n",
    "\n",
    "What happen was that pandas was not confident enough to determine one type of object for that column and decided to leave it as object datatype."
   ]
  },
  {
   "cell_type": "markdown",
   "metadata": {
    "id": "QWOmIWmdPStS"
   },
   "source": [
    "![picture](https://drive.google.com/uc?id=1vfqeGGZf_3RoifjP6C44qFjF1q3hp6Wc)\n"
   ]
  },
  {
   "cell_type": "markdown",
   "metadata": {
    "id": "fNoJL3xzPStS"
   },
   "source": [
    "Let's look at our data again again:"
   ]
  },
  {
   "cell_type": "code",
   "execution_count": null,
   "metadata": {
    "id": "gE-a4GISPStT",
    "outputId": "6169cf25-6b83-46e2-c1e9-b83d5f2aa04b"
   },
   "outputs": [],
   "source": [
    "df.head()"
   ]
  },
  {
   "cell_type": "markdown",
   "metadata": {
    "id": "qVq-S8ljPStV"
   },
   "source": [
    "In order to understand the importance of each column we should understand what type and subtype of data we have.\n",
    "  - Qualitative(categorical):  \n",
    "    - Nominal\n",
    "    - Ordinal\n",
    "  - Quantitative(numerical):\n",
    "    - Discrete\n",
    "    - Continuous  "
   ]
  },
  {
   "cell_type": "markdown",
   "metadata": {},
   "source": [
    "You can access just the column names if you want"
   ]
  },
  {
   "cell_type": "code",
   "execution_count": null,
   "metadata": {
    "id": "mAC-9bWNPStW",
    "outputId": "3f544b59-0886-401a-dc25-b7c75aedcb63"
   },
   "outputs": [],
   "source": [
    "df.columns"
   ]
  },
  {
   "cell_type": "markdown",
   "metadata": {},
   "source": [
    "And this helps counts just the non-null values"
   ]
  },
  {
   "cell_type": "code",
   "execution_count": null,
   "metadata": {
    "id": "rnDFBPFgPStY",
    "outputId": "dcc2a1c9-be83-4d41-fc51-4076d8018da4"
   },
   "outputs": [],
   "source": [
    "df.count()"
   ]
  },
  {
   "cell_type": "markdown",
   "metadata": {},
   "source": [
    "You can do this all at once with `.info()`"
   ]
  },
  {
   "cell_type": "code",
   "execution_count": null,
   "metadata": {},
   "outputs": [],
   "source": [
    "df.info()"
   ]
  },
  {
   "cell_type": "markdown",
   "metadata": {
    "id": "netx6uzLPSte"
   },
   "source": [
    "## 2.1 Data problems"
   ]
  },
  {
   "cell_type": "markdown",
   "metadata": {
    "id": "WUIaZoWCPStf"
   },
   "source": [
    "### 2.1.1 NULL / NaN values"
   ]
  },
  {
   "cell_type": "markdown",
   "metadata": {
    "id": "TyLQF6A_PStf"
   },
   "source": [
    "Unfortunately it seems that we have some missing values in Item_Weight maybe we have some missing values in other non numerical columns. Let's check it out."
   ]
  },
  {
   "cell_type": "code",
   "execution_count": null,
   "metadata": {
    "id": "SxgNs5yJPStg",
    "outputId": "3eb3414f-0e08-4d94-ec7e-eae4a286cd89",
    "scrolled": true
   },
   "outputs": [],
   "source": [
    "df.isnull().sum()"
   ]
  },
  {
   "cell_type": "markdown",
   "metadata": {
    "id": "u4NVwP8CPSti"
   },
   "source": [
    "Null values are normally represented with the string \"NaN\" look at `Item_Weight` in the output of the next Data Frame"
   ]
  },
  {
   "cell_type": "code",
   "execution_count": null,
   "metadata": {
    "id": "Pt4fkql9PSti",
    "outputId": "99d9f0d5-01e5-4fb0-e791-56039925a526"
   },
   "outputs": [],
   "source": [
    "df[df.Item_Weight.isnull()].head(3)"
   ]
  },
  {
   "cell_type": "markdown",
   "metadata": {
    "id": "TkpQQE1wPStl"
   },
   "source": [
    "When this happens we need to make a choice:\n",
    "  - Ignore the rows with missing data\n",
    "  - Ignore the columns with missing data\n",
    "  - Replace the values with a technique like Mean of the values, Regression...  "
   ]
  },
  {
   "cell_type": "markdown",
   "metadata": {
    "id": "YxYc4YVcPStl"
   },
   "source": [
    "To decide this lets use simple math:  \n",
    "if we drop those lines how much information do we lose?"
   ]
  },
  {
   "cell_type": "code",
   "execution_count": null,
   "metadata": {
    "id": "gErQ4T9nPStm",
    "outputId": "46032001-7ba2-49c9-8d88-ba9bf2f338a6"
   },
   "outputs": [],
   "source": [
    "df.shape"
   ]
  },
  {
   "cell_type": "code",
   "execution_count": null,
   "metadata": {
    "id": "ZFNwT8lVPSto",
    "outputId": "55c375b3-de94-4c17-b438-a6cc5c010ad7",
    "scrolled": true
   },
   "outputs": [],
   "source": [
    "df.dropna().shape"
   ]
  },
  {
   "cell_type": "code",
   "execution_count": null,
   "metadata": {
    "id": "isFLKIJDPStr",
    "outputId": "55e2899d-2ad7-4ee6-de61-8fd5756fd658"
   },
   "outputs": [],
   "source": [
    "frac = df.dropna().shape[0]/df.shape[0]\n",
    "print('Rows without NaNs:',str(round(frac*100,2)),'%')"
   ]
  },
  {
   "cell_type": "markdown",
   "metadata": {
    "id": "CHIkg9ZJPStu"
   },
   "source": [
    "This means if we drop the columns with missing values we will be losing about 45% of the lines and that is a lot of information\n",
    "...so?"
   ]
  },
  {
   "cell_type": "markdown",
   "metadata": {
    "id": "mI60BskRPStu"
   },
   "source": [
    "Let's ignore the columns"
   ]
  },
  {
   "cell_type": "code",
   "execution_count": null,
   "metadata": {
    "id": "TjgSSKPsPStv",
    "outputId": "8d3d0157-2000-474c-8184-b527d91ac490"
   },
   "outputs": [],
   "source": [
    "df=df.dropna(axis =1)\n",
    "df.shape"
   ]
  },
  {
   "cell_type": "markdown",
   "metadata": {
    "id": "3Qx-rmmhPStz"
   },
   "source": [
    "**Note** : A lot of more should be taken into account when discarding values because you can lose very valuable information on the process"
   ]
  },
  {
   "cell_type": "markdown",
   "metadata": {
    "id": "_ktyhGknPStz"
   },
   "source": [
    "### 2.1.2 Bad quality data"
   ]
  },
  {
   "cell_type": "markdown",
   "metadata": {
    "id": "7H74M2WJPSt0"
   },
   "source": [
    "In cases where data collection implies human action, we can end up with situations like this."
   ]
  },
  {
   "cell_type": "code",
   "execution_count": null,
   "metadata": {
    "id": "--NlridPPSt0",
    "outputId": "8dda2a89-0853-4f27-ced2-2e88d17348cf"
   },
   "outputs": [],
   "source": [
    "df.Item_Fat_Content.value_counts()"
   ]
  },
  {
   "cell_type": "markdown",
   "metadata": {
    "id": "mXg9DdM3PSt2"
   },
   "source": [
    "To solve this we will change the values with wrong strings to right strings.  \n",
    "  \n",
    ">To do this we will use dictionaries. with the following format:  \n",
    "{'string we want to change': 'the right string',....  \n",
    "which will tell to the **map function** how we want to change strings.  \n",
    "\n",
    "**Map function** is as the name says a function that picks in a representation (our dictionary) and applies it to the Panda Serie.  \n",
    "\n",
    "**note**:we also have to put in the dictionary the right strings otherwise the values will be changed to NaN and we do not want that.\n"
   ]
  },
  {
   "cell_type": "code",
   "execution_count": null,
   "metadata": {
    "id": "1oWXSTUEPSt2"
   },
   "outputs": [],
   "source": [
    "df.Item_Fat_Content = df.Item_Fat_Content.map({'Low Fat':'Low Fat','Regular':'Regular','LF':'Low Fat','reg':'Regular','low fat':'Low Fat'})"
   ]
  },
  {
   "cell_type": "code",
   "execution_count": null,
   "metadata": {
    "id": "7K67Mb1YPSt4",
    "outputId": "f25f1bcd-1b52-486b-cbc7-4d674d1d1c4b"
   },
   "outputs": [],
   "source": [
    "df.Item_Fat_Content.value_counts()"
   ]
  },
  {
   "cell_type": "markdown",
   "metadata": {
    "id": "sbQKR9ZLPSt6"
   },
   "source": [
    "Ok Now let's unload the power of pandas!!!!"
   ]
  },
  {
   "cell_type": "markdown",
   "metadata": {
    "id": "JEOKLHOMPSt6"
   },
   "source": [
    "![](https://github.com/taamfp/NDS_NEM_Workshop_2020/blob/main/Images/img_pandas/pandas_power.jpg?raw=true)"
   ]
  },
  {
   "cell_type": "markdown",
   "metadata": {
    "id": "q4g0pPtAPSt7"
   },
   "source": [
    "## 2.2 - Univariate Analysis"
   ]
  },
  {
   "cell_type": "markdown",
   "metadata": {
    "id": "mVSNjl8XPSt7"
   },
   "source": [
    "Univariate Analysis is, in the majority of cases, the primary choice of analysing unique label behaviour. It can be inferential or descriptive."
   ]
  },
  {
   "cell_type": "markdown",
   "metadata": {
    "id": "oYbYfqxIPSt7"
   },
   "source": [
    "We can, for example, check general statistical tendencies, using the .describe() method."
   ]
  },
  {
   "cell_type": "code",
   "execution_count": null,
   "metadata": {
    "id": "G7En65gEPSt8",
    "outputId": "d60e1a5e-4e1b-431a-e98e-90851fca3445"
   },
   "outputs": [],
   "source": [
    "df.describe()"
   ]
  },
  {
   "cell_type": "markdown",
   "metadata": {
    "id": "pmYQfCGHPSt_"
   },
   "source": [
    "Checking the correlation between Item_Outlet_Sales and Item_Visibility\t"
   ]
  },
  {
   "cell_type": "code",
   "execution_count": null,
   "metadata": {
    "id": "ub4BcIJ1PSt_",
    "outputId": "cb55d5ce-5d0f-465d-81cb-c97c542ed052"
   },
   "outputs": [],
   "source": [
    "labels = ['Item_Outlet_Sales', 'Item_Visibility']\n",
    "df[labels].corr()"
   ]
  },
  {
   "cell_type": "markdown",
   "metadata": {
    "id": "tmCp6GiGPSuB"
   },
   "source": [
    "### 2.1.1 Distribution of `Item_Outlet_Sales`"
   ]
  },
  {
   "cell_type": "markdown",
   "metadata": {
    "id": "vd6F-7hiPSuB"
   },
   "source": [
    "Do all Items have the same amount of sales?"
   ]
  },
  {
   "cell_type": "code",
   "execution_count": null,
   "metadata": {
    "id": "vTbknsj3PSuB",
    "outputId": "795dc530-b917-47ea-b0b1-6820b4d88ecc"
   },
   "outputs": [],
   "source": [
    "df['Item_Outlet_Sales'].hist()"
   ]
  },
  {
   "cell_type": "code",
   "execution_count": null,
   "metadata": {
    "id": "LP_poY7CPSuD",
    "outputId": "84e6c3bf-1a47-4185-c3f7-f3fa044478ef"
   },
   "outputs": [],
   "source": [
    "df['Item_Fat_Content'].value_counts().plot.bar()"
   ]
  },
  {
   "cell_type": "markdown",
   "metadata": {
    "id": "e1W3kBDQPSuG"
   },
   "source": [
    "## 2.3 - Multivariate Analysis"
   ]
  },
  {
   "cell_type": "markdown",
   "metadata": {
    "id": "D07hTtdLPSuG"
   },
   "source": [
    "In Multivariate Analysis, more than one statistical outcome variable at a time is considerate."
   ]
  },
  {
   "cell_type": "markdown",
   "metadata": {
    "id": "CBHyazQXPSuG"
   },
   "source": [
    "As seen before, we can now use the .corr method for the all dataset."
   ]
  },
  {
   "cell_type": "code",
   "execution_count": null,
   "metadata": {
    "id": "viuZYZ6lPSuH",
    "outputId": "f76662d2-fa43-42a2-9ae4-53974cb0739a"
   },
   "outputs": [],
   "source": [
    "df.corr()"
   ]
  },
  {
   "cell_type": "markdown",
   "metadata": {
    "id": "x_jq8r21PSuK"
   },
   "source": [
    "Also verifying visualy the correlation, with the use of Seaborn library."
   ]
  },
  {
   "cell_type": "code",
   "execution_count": null,
   "metadata": {
    "id": "kpZp0vu4PSuK",
    "outputId": "7f1c3c3c-d9ed-4353-e955-7e0e9af658b7",
    "scrolled": true
   },
   "outputs": [],
   "source": [
    "import seaborn as sns\n",
    "%matplotlib inline\n",
    "\n",
    "#Choosing the numerical labels\n",
    "numerical = ['Item_Visibility','Item_MRP', 'Outlet_Establishment_Year','Item_Outlet_Sales']\n",
    "\n",
    "df_numerical = df[numerical]\n",
    "\n",
    "sns.heatmap(df_numerical.corr(), annot=True)"
   ]
  },
  {
   "cell_type": "markdown",
   "metadata": {
    "id": "pdIVKW1iPSuN"
   },
   "source": [
    "Some Multivariate Analysis plots:  \n",
    "Do the clients spend more money on Low fat items or Regular Fat items?"
   ]
  },
  {
   "cell_type": "code",
   "execution_count": null,
   "metadata": {
    "id": "yBlN27W1PSuN",
    "outputId": "5e233f24-b3e2-46f9-83ec-ee12d46cf0bd",
    "scrolled": true
   },
   "outputs": [],
   "source": [
    "df_stats = df.groupby('Item_Fat_Content').sum()[[ 'Item_Outlet_Sales','Item_Visibility']]\n",
    "df_stats.plot.bar(y='Item_Outlet_Sales')"
   ]
  },
  {
   "cell_type": "markdown",
   "metadata": {
    "id": "RRHQ1d_5PSuP"
   },
   "source": [
    "Which of those are more Visible?"
   ]
  },
  {
   "cell_type": "code",
   "execution_count": null,
   "metadata": {
    "id": "UDK51GNIPSuP",
    "outputId": "8aa7b1b4-22db-4800-98eb-8a296babaf93"
   },
   "outputs": [],
   "source": [
    "df_stats.plot.bar(y='Item_Visibility')"
   ]
  },
  {
   "cell_type": "markdown",
   "metadata": {
    "id": "IjfpSli0PSuR"
   },
   "source": [
    "Is this why clients buy more stuff?"
   ]
  },
  {
   "cell_type": "code",
   "execution_count": null,
   "metadata": {
    "id": "sJGr6qcePSuR",
    "outputId": "b90eb44e-b617-4a49-cfcd-f2bbd6474bf0",
    "scrolled": true
   },
   "outputs": [],
   "source": [
    "df.plot.scatter('Item_Visibility','Item_Outlet_Sales')"
   ]
  },
  {
   "cell_type": "markdown",
   "metadata": {
    "id": "tlRgVHcOPSuT"
   },
   "source": [
    "### Ask Questions to the dataset"
   ]
  },
  {
   "cell_type": "code",
   "execution_count": null,
   "metadata": {
    "id": "F8swglDxPSuU"
   },
   "outputs": [],
   "source": []
  },
  {
   "cell_type": "markdown",
   "metadata": {
    "id": "cTE-EyfDPSuW"
   },
   "source": [
    "### Thank you and remember Google is your best friend."
   ]
  },
  {
   "cell_type": "markdown",
   "metadata": {
    "id": "Ynp3E5NDPSuW"
   },
   "source": [
    "![](https://raw.githubusercontent.com/nucleodatasciencefct/PythonWorkshop-BioFisNDS/master/Workshop/OpenCV/media/google.jpg \"chess\")"
   ]
  }
 ],
 "metadata": {
  "colab": {
   "collapsed_sections": [
    "kCN2JEloPStK",
    "_nyvWIPJPStP",
    "WUIaZoWCPStf",
    "_ktyhGknPStz",
    "tmCp6GiGPSuB",
    "tlRgVHcOPSuT",
    "cTE-EyfDPSuW"
   ],
   "name": "workshop_data-analysis.ipynb",
   "provenance": []
  },
  "kernelspec": {
   "display_name": "Python 3",
   "language": "python",
   "name": "python3"
  },
  "language_info": {
   "codemirror_mode": {
    "name": "ipython",
    "version": 3
   },
   "file_extension": ".py",
   "mimetype": "text/x-python",
   "name": "python",
   "nbconvert_exporter": "python",
   "pygments_lexer": "ipython3",
   "version": "3.8.3"
  }
 },
 "nbformat": 4,
 "nbformat_minor": 4
}
