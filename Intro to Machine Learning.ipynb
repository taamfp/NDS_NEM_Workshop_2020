{
 "cells": [
  {
   "cell_type": "markdown",
   "metadata": {},
   "source": [
    "# Introduction to Machine Learning"
   ]
  },
  {
   "cell_type": "markdown",
   "metadata": {},
   "source": [
    "### First of all, what is Machine Learning?"
   ]
  },
  {
   "cell_type": "markdown",
   "metadata": {},
   "source": [
    "- Generally speaking, is the field of computer science and engineering that studys the capability of computers to get knowledge from data.\n",
    "\n",
    "\n",
    "<img src=\"Images/curiosa-1.gif\" width=\"500\" align=\"center\">"
   ]
  },
  {
   "cell_type": "markdown",
   "metadata": {},
   "source": [
    "### A New Approach"
   ]
  },
  {
   "cell_type": "markdown",
   "metadata": {},
   "source": [
    "<figure class=\"image\">\n",
    "  <img src=\"Images/Traditional_Approach.png\" align=\"center\" width=\"500\">\n",
    "  <figcaption> Tradition Approach in Programming (Source: \"Hands-On Machine Learning with Scikit-Learn\n",
    "and TensorFlow\", Aurélien Géron, O'REILLY, 2017). </figcaption>\n",
    "</figure>"
   ]
  },
  {
   "attachments": {},
   "cell_type": "markdown",
   "metadata": {},
   "source": [
    "<figure class=\"image\">\n",
    "  <img src=\"Images/Machine_Learning.png\" align=\"center\" width=\"500\">\n",
    "  <figcaption> Machine Learning Approach (Source: \"Hands-On Machine Learning with Scikit-Learn\n",
    "and TensorFlow\", Aurélien Géron, O'REILLY, 2017). </figcaption>\n",
    "</figure>"
   ]
  },
  {
   "cell_type": "markdown",
   "metadata": {},
   "source": [
    "### What are the applications?"
   ]
  },
  {
   "cell_type": "markdown",
   "metadata": {},
   "source": [
    "<figure class=\"image\">\n",
    "    <img src=\"Images/SgML.gif\" align=\"center\" width=\"500\">\n",
    "  <figcaption> - Email Spam Detection. </figcaption>\n",
    "    <img src=\"Images/ImML.gif\" align=\"center\" width=\"500\">\n",
    "  <figcaption> - Image Classification. </figcaption>\n",
    "    <img src=\"Images/MdML.gif\" align=\"center\" width=\"500\">\n",
    "  <figcaption> - Medical Diagnosis. </figcaption>\n",
    "    <img src=\"Images/StML.gif\" align=\"center\" width=\"500\">\n",
    "  <figcaption> - Stock Market Predictions. </figcaption>\n",
    "    <img src=\"Images/ScML.gif\" align=\"center\" width=\"500\">\n",
    "  <figcaption> - Real-Time Object Detection and Self-Driving Cars. </figcaption>\n",
    "</figure>"
   ]
  },
  {
   "cell_type": "markdown",
   "metadata": {},
   "source": [
    "### Domains of Machine Learning"
   ]
  },
  {
   "cell_type": "markdown",
   "metadata": {},
   "source": [
    "#### Supervised Learning\n",
    "\n",
    "- In Supervised Learning, all training data instances include the expected solutions/output (labels).\n",
    "\n",
    "<figure class=\"image\">\n",
    "  <img src=\"Images/SupervisedLabel.png\" align=\"center\" width=\"800\">\n",
    "  <figcaption> Supervised Learning Approach (Source: \"Hands-On Machine Learning with Scikit-Learn\n",
    "and TensorFlow\", Aurélien Géron, O'REILLY, 2017). </figcaption>\n",
    "</figure>\n",
    "\n",
    "It can be subdivided on the following types of tasks:\n",
    "\n",
    "- Classification (Binary/Multiclass):\n",
    "- Regression."
   ]
  },
  {
   "cell_type": "markdown",
   "metadata": {},
   "source": [
    "#### Unsupervised Learning\n",
    "\n",
    "- In Unsupervised Learning, as opposed to the previous case, training data do not have any prior labelling. We want to find patterns in the unstructured data.\n",
    "\n",
    "<figure class=\"image\">\n",
    "  <img src=\"Images/Unsupervised.png\" align=\"center\" width=\"700\">\n",
    "  <figcaption> Set of unlabeled data (Source: \"Hands-On Machine Learning with Scikit-Learn\n",
    "and TensorFlow\", Aurélien Géron, O'REILLY, 2017). </figcaption>\n",
    "</figure>"
   ]
  },
  {
   "cell_type": "markdown",
   "metadata": {},
   "source": [
    "#### Reinforcement Learning\n",
    "\n",
    "- A more focused Machine Learning field for information theory and game theory. Interaction between an agent and an environment, where the agent receives penaltys/rewards and optimizes the set of actions (policy) to maximize the rewards.\n",
    "\n",
    "<figure class=\"image\">\n",
    "  <img src=\"Images/Reinforcement.png\" align=\"center\" width=\"700\">\n",
    "  <figcaption> Agent-Environment Interaction (Source: \"Reinforcement Learning: An Introduction\", Richard S. Sutton and Andrew G. Barto, 2018, MIT Press). </figcaption>\n",
    "</figure>"
   ]
  }
 ],
 "metadata": {
  "kernelspec": {
   "display_name": "Python 3",
   "language": "python",
   "name": "python3"
  },
  "language_info": {
   "codemirror_mode": {
    "name": "ipython",
    "version": 3
   },
   "file_extension": ".py",
   "mimetype": "text/x-python",
   "name": "python",
   "nbconvert_exporter": "python",
   "pygments_lexer": "ipython3",
   "version": "3.6.10"
  }
 },
 "nbformat": 4,
 "nbformat_minor": 4
}
