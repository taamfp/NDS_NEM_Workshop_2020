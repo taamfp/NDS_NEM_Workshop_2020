{
 "cells": [
  {
   "cell_type": "markdown",
   "metadata": {},
   "source": [
    "# Introduction to Machine Learning"
   ]
  },
  {
   "cell_type": "markdown",
   "metadata": {},
   "source": [
    "## First of all, what is Machine Learning?"
   ]
  },
  {
   "cell_type": "markdown",
   "metadata": {},
   "source": [
    "- Generally speaking, is the field of computer science and engineering that studys the capability of computers to get knowledge from data.\n",
    "\n",
    "\n",
    "<img src=\"Images/curiosa-1.gif\" width=\"500\" align=\"center\">"
   ]
  },
  {
   "cell_type": "markdown",
   "metadata": {},
   "source": [
    "## A New Approach"
   ]
  },
  {
   "cell_type": "markdown",
   "metadata": {},
   "source": [
    "<figure class=\"image\">\n",
    "  <img src=\"Images/Traditional_Approach.png\" align=\"center\" width=\"500\">\n",
    "  <figcaption> Tradition Approach in Programming (Source: \"Hands-On Machine Learning with Scikit-Learn\n",
    "and TensorFlow\", Aurélien Géron, O'REILLY, 2017). </figcaption>\n",
    "</figure>"
   ]
  },
  {
   "cell_type": "markdown",
   "metadata": {},
   "source": [
    "<figure class=\"image\">\n",
    "  <img src=\"Images/Machine_Learning.png\" align=\"center\" width=\"500\">\n",
    "  <figcaption> Machine Learning Approach (Source: \"Hands-On Machine Learning with Scikit-Learn\n",
    "and TensorFlow\", Aurélien Géron, O'REILLY, 2017). </figcaption>\n",
    "</figure>"
   ]
  },
  {
   "cell_type": "markdown",
   "metadata": {},
   "source": [
    "## What are the applications?"
   ]
  },
  {
   "cell_type": "markdown",
   "metadata": {},
   "source": [
    "<figure class=\"image\">\n",
    "    <img src=\"Images/SgML.gif\" align=\"center\" width=\"500\">\n",
    "  <figcaption> - Email Spam Detection. </figcaption>\n",
    "    <img src=\"Images/ImML.gif\" align=\"center\" width=\"500\">\n",
    "  <figcaption> - Image Classification. </figcaption>\n",
    "    <img src=\"Images/MdML.gif\" align=\"center\" width=\"500\">\n",
    "  <figcaption> - Medical Diagnosis. </figcaption>\n",
    "    <img src=\"Images/StML.gif\" align=\"center\" width=\"500\">\n",
    "  <figcaption> - Stock Market Predictions. </figcaption>\n",
    "    <img src=\"Images/ScML.gif\" align=\"center\" width=\"500\">\n",
    "  <figcaption> - Real-Time Object Detection and Self-Driving Cars. </figcaption>\n",
    "</figure>"
   ]
  },
  {
   "cell_type": "markdown",
   "metadata": {},
   "source": [
    "## Domains of Machine Learning"
   ]
  },
  {
   "cell_type": "markdown",
   "metadata": {},
   "source": [
    "#### Supervised Learning\n",
    "\n",
    "- In Supervised Learning, all training data instances include the expected solutions/output (labels).\n",
    "\n",
    "<figure class=\"image\">\n",
    "  <img src=\"Images/SupervisedLabel.png\" align=\"center\" width=\"800\">\n",
    "  <figcaption> Supervised Learning Approach (Source: \"Hands-On Machine Learning with Scikit-Learn\n",
    "and TensorFlow\", Aurélien Géron, O'REILLY, 2017). </figcaption>\n",
    "</figure>\n",
    "\n",
    "It can be subdivided on the following types of tasks:\n",
    "\n",
    "- Classification (Binary/Multiclass):\n",
    "- Regression."
   ]
  },
  {
   "cell_type": "markdown",
   "metadata": {},
   "source": [
    "#### Unsupervised Learning\n",
    "\n",
    "- In Unsupervised Learning, as opposed to the previous case, training data do not have any prior labelling. We want to find patterns in the unstructured data.\n",
    "\n",
    "<figure class=\"image\">\n",
    "  <img src=\"Images/Unsupervised.png\" align=\"center\" width=\"700\">\n",
    "  <figcaption> Set of unlabeled data (Source: \"Hands-On Machine Learning with Scikit-Learn\n",
    "and TensorFlow\", Aurélien Géron, O'REILLY, 2017). </figcaption>\n",
    "</figure>"
   ]
  },
  {
   "cell_type": "markdown",
   "metadata": {},
   "source": [
    "#### Reinforcement Learning\n",
    "\n",
    "- A more focused Machine Learning field for information theory and game theory. Interaction between an agent and an environment, where the agent receives penaltys/rewards and optimizes the set of actions (policy) to maximize the rewards.\n",
    "\n",
    "<figure class=\"image\">\n",
    "  <img src=\"Images/Reinforcement.png\" align=\"center\" width=\"700\">\n",
    "  <figcaption> Agent-Environment Interaction (Source: \"Reinforcement Learning: An Introduction\", Richard S. Sutton and Andrew G. Barto, 2018, MIT Press). </figcaption>\n",
    "</figure>"
   ]
  },
  {
   "cell_type": "markdown",
   "metadata": {},
   "source": [
    "## Standard Procedures in Machine Learning"
   ]
  },
  {
   "cell_type": "markdown",
   "metadata": {},
   "source": [
    "####  Implementing any Machine Learning solution normally incorporates the following steps:\n",
    "\n",
    "- Identifying the problem you want to solve;\n",
    "- Fit the problem in the related Machine Learning domain;\n",
    "- Collecting data;\n",
    "- Structuring/Cleaning the obtained data and gather the first insights;\n",
    "- Get the most important components of your data;\n",
    "- Model building;\n",
    "- Model evaluation and Results interpretation;\n",
    "- Deployment."
   ]
  },
  {
   "cell_type": "markdown",
   "metadata": {},
   "source": [
    "### In this session, we will focus on building and training a model. More specifically, we will solve a regression task to predict the price of residential homes in the United States.\n",
    "\n",
    "#### Let us first recap what regression tasks handle and understand how generally we train our models."
   ]
  },
  {
   "cell_type": "markdown",
   "metadata": {},
   "source": [
    "### Regression Modeling - Linear Regression"
   ]
  },
  {
   "cell_type": "markdown",
   "metadata": {},
   "source": [
    "- As opposed to binary or multiclass modeling, regression tasks deal with continuous labelled values. In case of predicting prices, we are trying to guess a value belonging to real domain, $y \\in \\mathbb{R}$. We are given a set of input variables, so we are dealing with multivariate analysis."
   ]
  },
  {
   "cell_type": "markdown",
   "metadata": {},
   "source": [
    "- Let us first start with the simplest regression model available, the linear regression."
   ]
  },
  {
   "cell_type": "markdown",
   "metadata": {},
   "source": [
    "In Linear Regression, the model makes a prediction by calculating the weighted sum of the $n$ features and an initial term, $\\theta_{0}$,"
   ]
  },
  {
   "cell_type": "markdown",
   "metadata": {},
   "source": [
    "$ y = \\theta_{0} + \\theta_{1}x_{1} + ... + \\theta_{n}x_{n} $"
   ]
  },
  {
   "cell_type": "markdown",
   "metadata": {},
   "source": [
    "where $y$ is the output we want to predict,  $n$ the number of input variables we have in our data, $x$ is the input variable value and $\\theta$ the model parameter/weight."
   ]
  },
  {
   "cell_type": "markdown",
   "metadata": {},
   "source": [
    "- We train the model to set the optimal parameters so it fits the data the best way. This is practically the same as saying that we are trying to find the best values of $\\theta$ so it minimizes the Root Mean Square Error (RMSE)."
   ]
  },
  {
   "cell_type": "markdown",
   "metadata": {},
   "source": [
    "The Root Mean Square Error is a standardized manner of evaluate the error of the regression model. It is defined as,"
   ]
  },
  {
   "cell_type": "markdown",
   "metadata": {},
   "source": [
    "$ RMSE = \\sqrt{\\sum_{i=1}^{n}} $"
   ]
  },
  {
   "cell_type": "markdown",
   "metadata": {},
   "source": [
    "### How we train Regression Models"
   ]
  },
  {
   "cell_type": "markdown",
   "metadata": {},
   "source": [
    "##### Now it is time to train your first model!\n",
    "\n",
    "<img src=\"Images/Train.gif\" width=\"500\" align=\"center\">"
   ]
  }
 ],
 "metadata": {
  "kernelspec": {
   "display_name": "Python 3",
   "language": "python",
   "name": "python3"
  },
  "language_info": {
   "codemirror_mode": {
    "name": "ipython",
    "version": 3
   },
   "file_extension": ".py",
   "mimetype": "text/x-python",
   "name": "python",
   "nbconvert_exporter": "python",
   "pygments_lexer": "ipython3",
   "version": "3.6.10"
  }
 },
 "nbformat": 4,
 "nbformat_minor": 4
}
