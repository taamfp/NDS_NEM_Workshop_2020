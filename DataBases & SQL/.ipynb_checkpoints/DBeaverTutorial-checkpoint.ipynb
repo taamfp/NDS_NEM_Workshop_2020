{
 "cells": [
  {
   "cell_type": "markdown",
   "metadata": {},
   "source": [
    "<img src=\"https://media1.tenor.com/images/f898731211184dca06f52005d7d0a166/tenor.gif?itemid=8846380\">\n"
   ]
  },
  {
   "cell_type": "markdown",
   "metadata": {},
   "source": [
    "Welcome! In order to provide you with the best experience we ask that you complete this tutorial before attending the workshop. <br> <br>\n",
    "**Questions**: In case you are having any difficulties in following the tutorial please ask directly to our guys at [NDS](https://www.facebook.com/NDS-Núcleo-de-Data-Science-FCT-UNL-769904580035480/) through the messsenger chat."
   ]
  },
  {
   "cell_type": "markdown",
   "metadata": {},
   "source": [
    "# Tutorial\n",
    "Time to interact with a real database! For this course we will connect to an SQLite database, which is just a file! You can read more about that [here](https://www.sqlite.org/onefile.html).\n",
    "For this, we'll need an SQL client, which is a graphical interface to interact with the database. So let's install a SQL client and get started!\n",
    "\n",
    "Here we're going to use the [DBeaver SQL client](https://dbeaver.io/) since it can work with different DBMSs and can be installed in Linux, Mac and Windows machines.\n",
    "\n",
    "\n",
    "#### Step 1: Download and Install DBeaver client\n",
    "\n",
    "[Download Link for DBeaver](https://dbeaver.io/download/)\n",
    "\n",
    "\n",
    "#### Step 2: Connect to local database\n",
    "\n",
    "In case you did not notice, we actually have a database in this repository! If you look up in the root of the project for the folder \"data\" there's a file there named \"WorkshopDB.db\". Let's connect to it!\n",
    "\n",
    "If you open your application DBeaver, this should be similar to the main screen you are seeing on your computer:\n",
    "\n",
    "<img src=\"media/DbeaverTutorial/1-BeginDBeaver.png\" width=850/>\n",
    "\n",
    "Now we want to create a new (SQLite) connection to our database!\n",
    "\n",
    "\n",
    "<img src=\"media/DbeaverTutorial/2-new_conn.png\" width=850/>\n",
    "\n",
    "This window should have popped up:\n",
    "\n",
    "<img src=\"media/DbeaverTutorial/3-conn_window.png\" width=850/>\n",
    "\n",
    "DBeaver is asking you to provide the full path on your computer of the database file. You should now press \"browse\" and find the the_movies.db file which is inside the workshop folder under \"data\": (you can see where mine is stored below, but your path is probably slightly different)\n",
    "\n",
    "<img src=\"media/DbeaverTutorial/4-find_path_of_db_file.png\" width=850/>\n",
    "\n",
    "You can now press \"Finish\" and this should be what you get:\n",
    "\n",
    "<img src=\"media/DbeaverTutorial/5-conn_successful.png\" width=850/>\n",
    "\n",
    "\n",
    "#### Step 3: Investigate the DB\n",
    "\n",
    "You can now start looking at what's inside our database! We will let you explore this by yourself but here's something that you can do:\n",
    "\n",
    "<img src=\"media/DbeaverTutorial/6-Interaction.png\" width=850/>\n",
    "\n",
    "Awesome! So you can actually see what types of columns each table has and even look directly at the data!\n",
    "\n",
    "\n",
    "#### Step 4: Test a query\n",
    "\n",
    "\n",
    "Select \"SQL Editor\" in the tool-bar and then click on \"New SQL editor\".\n",
    "\n",
    "<img src=\"media/DbeaverTutorial/7-start_new_editor.png\" width=850/>\n",
    "\n",
    "Type \"SELECT * FROM movie where original_title like 'Toy Story';\" and check that you get the results (press CTRL+Enter or click the orange arrow to execute SQL statements)\n",
    "\n",
    "<img src=\"media/DbeaverTutorial/8-make_a_query.png\" width=850/>"
   ]
  },
  {
   "cell_type": "markdown",
   "metadata": {},
   "source": [
    "Congratulations you have completed the DBeaver tutorial! You may now have your well deserved rest and patiently wait until Wednesday the 16th. See you there!"
   ]
  },
  {
   "cell_type": "markdown",
   "metadata": {},
   "source": [
    "<img src=\"https://media1.tenor.com/images/8f2ab13b52287edb3c656dd76aa24025/tenor.gif?itemid=5894625\">"
   ]
  }
 ],
 "metadata": {
  "kernelspec": {
   "display_name": "Python 3",
   "language": "python",
   "name": "python3"
  },
  "language_info": {
   "codemirror_mode": {
    "name": "ipython",
    "version": 3
   },
   "file_extension": ".py",
   "mimetype": "text/x-python",
   "name": "python",
   "nbconvert_exporter": "python",
   "pygments_lexer": "ipython3",
   "version": "3.7.1"
  }
 },
 "nbformat": 4,
 "nbformat_minor": 4
}
