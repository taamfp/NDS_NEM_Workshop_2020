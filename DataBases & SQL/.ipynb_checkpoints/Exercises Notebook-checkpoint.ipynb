{
 "cells": [
  {
   "cell_type": "markdown",
   "metadata": {},
   "source": [
    "<img src=\"https://media1.tenor.com/images/b440fe8b087416820258b711b91ca18a/tenor.gif?itemid=9499692\" >"
   ]
  },
  {
   "cell_type": "markdown",
   "metadata": {},
   "source": [
    "# Intro\n",
    "Welcome to the exercises notebook! Don't worry, this won't be too difficult. We'll just ask you to solve a few exercises about what you've just learned on SQL."
   ]
  },
  {
   "cell_type": "code",
   "execution_count": 33,
   "metadata": {},
   "outputs": [],
   "source": [
    "# some necessary import, don't mind it for now :)\n",
    "import hashlib"
   ]
  },
  {
   "cell_type": "markdown",
   "metadata": {},
   "source": [
    "# Exercise 1"
   ]
  },
  {
   "cell_type": "markdown",
   "metadata": {},
   "source": [
    "**Task:** Connect to the Workshop.db database using DBeaver <br> <br>\n",
    "\n",
    "*Side Note*: If you get stuck you can always ask someone from the organization or the collegue next to you for help!"
   ]
  },
  {
   "cell_type": "markdown",
   "metadata": {},
   "source": [
    "# Exercise 2"
   ]
  },
  {
   "cell_type": "markdown",
   "metadata": {},
   "source": [
    "**Task:** How many tables are in this database?"
   ]
  },
  {
   "cell_type": "code",
   "execution_count": 36,
   "metadata": {},
   "outputs": [],
   "source": [
    "# uncomment the line below, set n_tables to your answer eg: n_tables = 1, and run the cell!\n",
    "# n_tables = "
   ]
  },
  {
   "cell_type": "markdown",
   "metadata": {},
   "source": [
    "The cell below will tell you if you got the right answer. If it outputs an error that's because your answer was wrong. But fright not! You have unlimited chances at answering this. Now, our advice is to not try random numbers until you get the right answer, but instead, try to really understand why your answer was wrong and then answer again after thinking carefully."
   ]
  },
  {
   "cell_type": "code",
   "execution_count": 41,
   "metadata": {},
   "outputs": [],
   "source": [
    "# check if your answer is correct by running this cell\n",
    "expected_hash = '4e07408562bedb8b60ce05c1decfe3ad16b72230967de01f640b7e4729b49fce'\n",
    "assert hashlib.sha256(str(n_tables).encode()).hexdigest() == expected_hash"
   ]
  },
  {
   "cell_type": "markdown",
   "metadata": {},
   "source": [
    "# Exercise 3"
   ]
  },
  {
   "cell_type": "markdown",
   "metadata": {},
   "source": [
    "**Task:** How many outlets are there?"
   ]
  },
  {
   "cell_type": "code",
   "execution_count": null,
   "metadata": {},
   "outputs": [],
   "source": [
    "# uncomment the line below and set n_outlets to your answer and run the cell!\n",
    "# n_outlets = "
   ]
  },
  {
   "cell_type": "code",
   "execution_count": 43,
   "metadata": {},
   "outputs": [],
   "source": [
    "expected_hash = '4a44dc15364204a80fe80e9039455cc1608281820fe2b24f1e5233ade6af1dd5'\n",
    "assert hashlib.sha256(str(n_outlets).encode()).hexdigest()  == expected_hash"
   ]
  },
  {
   "cell_type": "markdown",
   "metadata": {},
   "source": [
    "# Exercise 4"
   ]
  },
  {
   "cell_type": "markdown",
   "metadata": {},
   "source": [
    "**Task:** How many items are there whose sales are under €500?"
   ]
  },
  {
   "cell_type": "code",
   "execution_count": 44,
   "metadata": {},
   "outputs": [],
   "source": [
    "# uncomment the line below and set n_items_below_500 to your answer and run the cell!\n",
    "# n_items_below_500"
   ]
  },
  {
   "cell_type": "code",
   "execution_count": 45,
   "metadata": {},
   "outputs": [],
   "source": [
    "expected_hash = '9c19f29d0e6fefa21eec58f6ff4d0cf807b63d0ed146f1fea0874506b66c35ee'\n",
    "assert hashlib.sha256(str(n_items_below_500).encode()).hexdigest()  == expected_hash"
   ]
  },
  {
   "cell_type": "markdown",
   "metadata": {},
   "source": [
    "# Exercise 5\n",
    "**Task:**: What's the outlet type that holds the highest mean(item visibility) \n",
    "\n",
    "*Note*: This one is a little harder, it's perfectly fine to take you a long time to solve it. <br> <br>\n",
    "*hint1:* maybe one table doesn't have enough information to answer this... <br>\n",
    "*hint2:* mean?....hum that's an aggregate function.. where did we see we could use those... <br>\n",
    "*hint3:*: highest?... well that means we have to sort the results somehow... <br>"
   ]
  },
  {
   "cell_type": "code",
   "execution_count": 22,
   "metadata": {},
   "outputs": [],
   "source": [
    "# uncomment the line below and set outlet_type to your answer and run the cell!\n",
    "# outlet_type = \"\" <- this should be a string (aka: text)"
   ]
  },
  {
   "cell_type": "code",
   "execution_count": 32,
   "metadata": {},
   "outputs": [],
   "source": [
    "expected_hash = 'dede36f13cd00c8ef4562e9ef3e66bb87d3dc24f940eff52c97e41ca1944eafd'\n",
    "assert hashlib.sha256(str(outlet_type).lower().strip().encode()).hexdigest()  == expected_hash"
   ]
  },
  {
   "cell_type": "markdown",
   "metadata": {},
   "source": [
    "# That's it!\n",
    "You've just learned how to interact with databases and make sql queries to inspect your data! Hurray!"
   ]
  },
  {
   "cell_type": "markdown",
   "metadata": {},
   "source": [
    "<img src=\"https://media1.tenor.com/images/2386d12e54aa11ce0298d100954d982a/tenor.gif?itemid=4115627\" >"
   ]
  },
  {
   "cell_type": "markdown",
   "metadata": {},
   "source": [
    "If [this](https://tenor.com/view/finished-done-over-finally-gif-8259334) is lowkey how you're feeling, fear not! For it is almost time for a well deserved [coffee break](https://tenor.com/view/jonah-hill-yay-greek-aldos-gif-7212866)! But before that let's quickly learn how to make queries to databases from python!"
   ]
  }
 ],
 "metadata": {
  "kernelspec": {
   "display_name": "Python 3",
   "language": "python",
   "name": "python3"
  },
  "language_info": {
   "codemirror_mode": {
    "name": "ipython",
    "version": 3
   },
   "file_extension": ".py",
   "mimetype": "text/x-python",
   "name": "python",
   "nbconvert_exporter": "python",
   "pygments_lexer": "ipython3",
   "version": "3.7.1"
  }
 },
 "nbformat": 4,
 "nbformat_minor": 4
}
